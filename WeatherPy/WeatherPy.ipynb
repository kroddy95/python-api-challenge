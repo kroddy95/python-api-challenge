{
 "cells": [
  {
   "cell_type": "markdown",
   "metadata": {},
   "source": [
    "# WeatherPy\n",
    "----\n",
    "\n",
    "#### Note\n",
    "* Instructions have been included for each segment. You do not have to follow them exactly, but they are included to help you think through the steps."
   ]
  },
  {
   "cell_type": "code",
   "execution_count": 136,
   "metadata": {
    "scrolled": true
   },
   "outputs": [],
   "source": [
    "# Dependencies and Setup\n",
    "import matplotlib.pyplot as plt\n",
    "import pandas as pd\n",
    "import numpy as np\n",
    "import requests\n",
    "import time\n",
    "import scipy.stats as st\n",
    "from scipy.stats import linregress\n",
    "\n",
    "# Import API key\n",
    "from api_keys import weather_api_key\n",
    "\n",
    "# Incorporated citipy to determine city based on latitude and longitude\n",
    "from citipy import citipy\n",
    "\n",
    "# Output File (CSV)\n",
    "output_data_file = \"output_data/cities.csv\"\n",
    "\n",
    "# Range of latitudes and longitudes\n",
    "lat_range = (-90, 90)\n",
    "lng_range = (-180, 180)"
   ]
  },
  {
   "cell_type": "markdown",
   "metadata": {},
   "source": [
    "## Generate Cities List"
   ]
  },
  {
   "cell_type": "code",
   "execution_count": 2,
   "metadata": {},
   "outputs": [
    {
     "data": {
      "text/plain": [
       "641"
      ]
     },
     "execution_count": 2,
     "metadata": {},
     "output_type": "execute_result"
    }
   ],
   "source": [
    "# List for holding lat_lngs and cities\n",
    "lat_lngs = []\n",
    "cities = []\n",
    "\n",
    "# Create a set of random lat and lng combinations\n",
    "lats = np.random.uniform(lat_range[0], lat_range[1], size=1500)\n",
    "lngs = np.random.uniform(lng_range[0], lng_range[1], size=1500)\n",
    "lat_lngs = zip(lats, lngs)\n",
    "\n",
    "# Identify nearest city for each lat, lng combination\n",
    "for lat_lng in lat_lngs:\n",
    "    city = citipy.nearest_city(lat_lng[0], lat_lng[1]).city_name\n",
    "    \n",
    "    # If the city is unique, then add it to a our cities list\n",
    "    if city not in cities:\n",
    "        cities.append(city)\n",
    "\n",
    "# Print the city count to confirm sufficient count\n",
    "len(cities)"
   ]
  },
  {
   "cell_type": "markdown",
   "metadata": {},
   "source": [
    "### Perform API Calls\n",
    "* Perform a weather check on each city using a series of successive API calls.\n",
    "* Include a print log of each city as it'sbeing processed (with the city number and city name).\n"
   ]
  },
  {
   "cell_type": "code",
   "execution_count": 3,
   "metadata": {},
   "outputs": [
    {
     "name": "stdout",
     "output_type": "stream",
     "text": [
      "Beginning Data Retrieval\n",
      "-----------------------------\n",
      "Processing Record 1 of set 1 | mataura\n",
      "Processing Record 2 of set 1 | puerto escondido\n",
      "Processing Record 3 of set 1 | kapaa\n",
      "Processing Record 4 of set 1 | mahebourg\n",
      "Processing Record 5 of set 1 | leningradskiy\n",
      "Processing Record 6 of set 1 | estacion coahuila\n",
      "marcona not found. Skipping...\n",
      "Processing Record 8 of set 1 | vardo\n",
      "Processing Record 9 of set 1 | bredasdorp\n",
      "Processing Record 10 of set 1 | codrington\n",
      "Processing Record 11 of set 1 | ancud\n",
      "Processing Record 12 of set 1 | karaton\n",
      "Processing Record 13 of set 1 | bambous virieux\n",
      "attawapiskat not found. Skipping...\n",
      "Processing Record 15 of set 1 | college\n",
      "Processing Record 16 of set 1 | salalah\n",
      "Processing Record 17 of set 1 | carballo\n",
      "Processing Record 18 of set 1 | qandala\n",
      "Processing Record 19 of set 1 | faanui\n",
      "Processing Record 20 of set 1 | lompoc\n",
      "Processing Record 21 of set 1 | hobart\n",
      "Processing Record 22 of set 1 | san andres\n",
      "Processing Record 23 of set 1 | rantepao\n",
      "Processing Record 24 of set 1 | jamestown\n",
      "Processing Record 25 of set 1 | sohbatpur\n",
      "Processing Record 26 of set 1 | sozimskiy\n",
      "Processing Record 27 of set 1 | hukuntsi\n",
      "Processing Record 28 of set 1 | mao\n",
      "marv dasht not found. Skipping...\n",
      "Processing Record 30 of set 1 | clyde river\n",
      "Processing Record 31 of set 1 | severo-kurilsk\n",
      "Processing Record 32 of set 1 | thompson\n",
      "jarjis not found. Skipping...\n",
      "Processing Record 34 of set 1 | busselton\n",
      "Processing Record 35 of set 1 | aksarka\n",
      "Processing Record 36 of set 1 | tuktoyaktuk\n",
      "Processing Record 37 of set 1 | itarema\n",
      "Processing Record 38 of set 1 | punta arenas\n",
      "Processing Record 39 of set 1 | tilichiki\n",
      "Processing Record 40 of set 1 | kidodi\n",
      "Processing Record 41 of set 1 | benjamin constant\n",
      "Processing Record 42 of set 1 | kaitangata\n",
      "Processing Record 43 of set 1 | japura\n",
      "Processing Record 44 of set 1 | naze\n",
      "Processing Record 45 of set 1 | carnarvon\n",
      "Processing Record 46 of set 1 | zeerust\n",
      "Processing Record 47 of set 1 | port alfred\n",
      "Processing Record 48 of set 1 | kieta\n",
      "jahrom not found. Skipping...\n",
      "Processing Record 0 of set 2 | puerto ayora\n",
      "taolanaro not found. Skipping...\n",
      "Processing Record 2 of set 2 | albany\n",
      "Processing Record 3 of set 2 | labuan\n",
      "Processing Record 4 of set 2 | salta\n",
      "Processing Record 5 of set 2 | alexandria\n",
      "Processing Record 6 of set 2 | rikitea\n",
      "saleaula not found. Skipping...\n",
      "Processing Record 8 of set 2 | dzhankoy\n",
      "Processing Record 9 of set 2 | mount isa\n",
      "Processing Record 10 of set 2 | hispania\n",
      "Processing Record 11 of set 2 | ponta do sol\n",
      "crab hill not found. Skipping...\n",
      "Processing Record 13 of set 2 | nelson bay\n",
      "Processing Record 14 of set 2 | abu samrah\n",
      "Processing Record 15 of set 2 | vaini\n",
      "Processing Record 16 of set 2 | saquarema\n",
      "Processing Record 17 of set 2 | nikolskoye\n",
      "Processing Record 18 of set 2 | hilo\n",
      "Processing Record 19 of set 2 | ngunguru\n",
      "Processing Record 20 of set 2 | cabo san lucas\n",
      "Processing Record 21 of set 2 | sao filipe\n",
      "Processing Record 22 of set 2 | qadirpur ran\n",
      "Processing Record 23 of set 2 | hermanus\n",
      "Processing Record 24 of set 2 | port lincoln\n",
      "Processing Record 25 of set 2 | khatanga\n",
      "grand river south east not found. Skipping...\n",
      "Processing Record 27 of set 2 | butaritari\n",
      "Processing Record 28 of set 2 | dikson\n",
      "Processing Record 29 of set 2 | livingston\n",
      "Processing Record 30 of set 2 | barrow\n",
      "Processing Record 31 of set 2 | poum\n",
      "Processing Record 32 of set 2 | susehri\n",
      "barentsburg not found. Skipping...\n",
      "Processing Record 34 of set 2 | torbay\n",
      "ambodifototra not found. Skipping...\n",
      "Processing Record 36 of set 2 | fortuna\n",
      "Processing Record 37 of set 2 | bontang\n",
      "Processing Record 38 of set 2 | lorengau\n",
      "Processing Record 39 of set 2 | georgetown\n",
      "Processing Record 40 of set 2 | castro\n",
      "Processing Record 41 of set 2 | sitka\n",
      "Processing Record 42 of set 2 | hamilton\n",
      "Processing Record 43 of set 2 | longyearbyen\n",
      "Processing Record 44 of set 2 | charlestown\n",
      "Processing Record 45 of set 2 | saint-philippe\n",
      "Processing Record 46 of set 2 | la virtud\n",
      "Processing Record 47 of set 2 | arraial do cabo\n",
      "Processing Record 48 of set 2 | dunedin\n",
      "Processing Record 49 of set 2 | kloulklubed\n",
      "umzimvubu not found. Skipping...\n",
      "Processing Record 1 of set 3 | ribeira grande\n",
      "Processing Record 2 of set 3 | ushuaia\n",
      "Processing Record 3 of set 3 | nampula\n",
      "Processing Record 4 of set 3 | yulara\n",
      "Processing Record 5 of set 3 | hasaki\n",
      "Processing Record 6 of set 3 | tiznit\n",
      "Processing Record 7 of set 3 | dhule\n",
      "Processing Record 8 of set 3 | buala\n",
      "Processing Record 9 of set 3 | airai\n",
      "Processing Record 10 of set 3 | yenagoa\n",
      "Processing Record 11 of set 3 | ulladulla\n",
      "Processing Record 12 of set 3 | sao joao da barra\n",
      "Processing Record 13 of set 3 | lugovoy\n",
      "Processing Record 14 of set 3 | itoman\n",
      "Processing Record 15 of set 3 | robertsport\n",
      "Processing Record 16 of set 3 | kalga\n",
      "Processing Record 17 of set 3 | beyneu\n",
      "Processing Record 18 of set 3 | avarua\n",
      "Processing Record 19 of set 3 | giovinazzo\n",
      "Processing Record 20 of set 3 | vila velha\n",
      "Processing Record 21 of set 3 | marandahalli\n",
      "Processing Record 22 of set 3 | astoria\n",
      "Processing Record 23 of set 3 | norman wells\n",
      "Processing Record 24 of set 3 | polson\n",
      "Processing Record 25 of set 3 | sisimiut\n",
      "Processing Record 26 of set 3 | hithadhoo\n",
      "Processing Record 27 of set 3 | colares\n",
      "Processing Record 28 of set 3 | svetlogorsk\n",
      "Processing Record 29 of set 3 | lermontovka\n",
      "Processing Record 30 of set 3 | san jeronimo\n",
      "Processing Record 31 of set 3 | yerbogachen\n",
      "Processing Record 32 of set 3 | ilulissat\n",
      "Processing Record 33 of set 3 | cuamba\n",
      "mys shmidta not found. Skipping...\n",
      "Processing Record 35 of set 3 | bratsk\n",
      "Processing Record 36 of set 3 | chuy\n",
      "Processing Record 37 of set 3 | katsuura\n",
      "scottsburgh not found. Skipping...\n",
      "Processing Record 39 of set 3 | kahului\n",
      "Processing Record 40 of set 3 | mehamn\n",
      "Processing Record 41 of set 3 | port macquarie\n",
      "Processing Record 42 of set 3 | husavik\n",
      "Processing Record 43 of set 3 | prerov\n",
      "Processing Record 44 of set 3 | wegorzewo\n",
      "Processing Record 45 of set 3 | arlit\n",
      "Processing Record 46 of set 3 | basco\n",
      "balimo not found. Skipping...\n",
      "Processing Record 48 of set 3 | dicabisagan\n",
      "Processing Record 49 of set 3 | bluff\n",
      "Processing Record 0 of set 4 | dinar\n",
      "Processing Record 1 of set 4 | yellowknife\n",
      "vaitupu not found. Skipping...\n",
      "Processing Record 3 of set 4 | awjilah\n",
      "Processing Record 4 of set 4 | makakilo city\n",
      "Processing Record 5 of set 4 | port-gentil\n",
      "Processing Record 6 of set 4 | pangnirtung\n",
      "Processing Record 7 of set 4 | oranjestad\n",
      "Processing Record 8 of set 4 | talaya\n",
      "Processing Record 9 of set 4 | aswan\n",
      "Processing Record 10 of set 4 | port hardy\n",
      "Processing Record 11 of set 4 | puerto ayacucho\n",
      "Processing Record 12 of set 4 | cape town\n",
      "Processing Record 13 of set 4 | nanortalik\n",
      "Processing Record 14 of set 4 | qasigiannguit\n",
      "Processing Record 15 of set 4 | uyemskiy\n",
      "Processing Record 16 of set 4 | cherskiy\n",
      "Processing Record 17 of set 4 | saskylakh\n",
      "Processing Record 18 of set 4 | kununurra\n",
      "Processing Record 19 of set 4 | carlisle\n",
      "Processing Record 20 of set 4 | pevek\n",
      "Processing Record 21 of set 4 | saeby\n",
      "artyk not found. Skipping...\n",
      "Processing Record 23 of set 4 | syamzha\n",
      "Processing Record 24 of set 4 | farafangana\n",
      "Processing Record 25 of set 4 | coquimbo\n",
      "Processing Record 26 of set 4 | rayevskiy\n",
      "rungata not found. Skipping...\n",
      "Processing Record 28 of set 4 | la ronge\n",
      "Processing Record 29 of set 4 | san buenaventura\n",
      "Processing Record 30 of set 4 | anamur\n",
      "Processing Record 31 of set 4 | tigil\n",
      "Processing Record 32 of set 4 | qaanaaq\n",
      "Processing Record 33 of set 4 | burewala\n",
      "Processing Record 34 of set 4 | san carlos de bariloche\n",
      "Processing Record 35 of set 4 | chara\n",
      "Processing Record 36 of set 4 | bengkulu\n",
      "Processing Record 37 of set 4 | nikolsk\n",
      "Processing Record 38 of set 4 | namibe\n",
      "Processing Record 39 of set 4 | mount gambier\n",
      "Processing Record 40 of set 4 | el sauzal\n",
      "Processing Record 41 of set 4 | east london\n",
      "Processing Record 42 of set 4 | yumen\n",
      "toliary not found. Skipping...\n",
      "Processing Record 44 of set 4 | comodoro rivadavia\n",
      "Processing Record 45 of set 4 | merrill\n",
      "illoqqortoormiut not found. Skipping...\n",
      "Processing Record 47 of set 4 | joshimath\n",
      "Processing Record 48 of set 4 | anloga\n",
      "Processing Record 49 of set 4 | seoul\n",
      "Processing Record 0 of set 5 | kodiak\n",
      "Processing Record 1 of set 5 | kulhudhuffushi\n"
     ]
    },
    {
     "name": "stdout",
     "output_type": "stream",
     "text": [
      "louisbourg not found. Skipping...\n",
      "Processing Record 3 of set 5 | tautira\n",
      "Processing Record 4 of set 5 | upernavik\n",
      "Processing Record 5 of set 5 | karpogory\n",
      "Processing Record 6 of set 5 | usinsk\n",
      "Processing Record 7 of set 5 | rocha\n",
      "Processing Record 8 of set 5 | hofn\n",
      "Processing Record 9 of set 5 | mitsamiouli\n",
      "Processing Record 10 of set 5 | bereznik\n",
      "Processing Record 11 of set 5 | sao raimundo das mangabeiras\n",
      "Processing Record 12 of set 5 | bam\n",
      "Processing Record 13 of set 5 | nome\n",
      "Processing Record 14 of set 5 | asau\n",
      "lolua not found. Skipping...\n",
      "Processing Record 16 of set 5 | kapuskasing\n",
      "Processing Record 17 of set 5 | new norfolk\n",
      "Processing Record 18 of set 5 | labuhan\n",
      "Processing Record 19 of set 5 | obihiro\n",
      "Processing Record 20 of set 5 | jagraon\n",
      "Processing Record 21 of set 5 | bilibino\n",
      "Processing Record 22 of set 5 | kismayo\n",
      "Processing Record 23 of set 5 | belyy yar\n",
      "Processing Record 24 of set 5 | tambopata\n",
      "Processing Record 25 of set 5 | lavrentiya\n",
      "Processing Record 26 of set 5 | shakawe\n",
      "Processing Record 27 of set 5 | chokurdakh\n",
      "Processing Record 28 of set 5 | anadyr\n",
      "Processing Record 29 of set 5 | victoria\n",
      "Processing Record 30 of set 5 | searcy\n",
      "Processing Record 31 of set 5 | egvekinot\n",
      "Processing Record 32 of set 5 | livingstone\n",
      "Processing Record 33 of set 5 | awbari\n",
      "Processing Record 34 of set 5 | traverse city\n",
      "Processing Record 35 of set 5 | caravelas\n",
      "Processing Record 36 of set 5 | high level\n",
      "Processing Record 37 of set 5 | natal\n",
      "Processing Record 38 of set 5 | tasiilaq\n",
      "Processing Record 39 of set 5 | neuquen\n",
      "Processing Record 40 of set 5 | te anau\n",
      "Processing Record 41 of set 5 | los llanos de aridane\n",
      "Processing Record 42 of set 5 | tessalit\n",
      "Processing Record 43 of set 5 | srednekolymsk\n",
      "Processing Record 44 of set 5 | umm lajj\n",
      "Processing Record 45 of set 5 | smithers\n",
      "Processing Record 46 of set 5 | beringovskiy\n",
      "Processing Record 47 of set 5 | bajitpur\n",
      "Processing Record 48 of set 5 | sinjar\n",
      "Processing Record 49 of set 5 | luderitz\n",
      "Processing Record 0 of set 6 | broken hill\n",
      "kamenskoye not found. Skipping...\n",
      "Processing Record 2 of set 6 | mataram\n",
      "Processing Record 3 of set 6 | nakhon nayok\n",
      "bolungarvik not found. Skipping...\n",
      "Processing Record 5 of set 6 | hirara\n",
      "Processing Record 6 of set 6 | catuday\n",
      "Processing Record 7 of set 6 | dubbo\n",
      "Processing Record 8 of set 6 | iranshahr\n",
      "Processing Record 9 of set 6 | eureka\n",
      "Processing Record 10 of set 6 | constitucion\n",
      "Processing Record 11 of set 6 | jacareacanga\n",
      "Processing Record 12 of set 6 | saldanha\n",
      "tumannyy not found. Skipping...\n",
      "goycay not found. Skipping...\n",
      "Processing Record 15 of set 6 | atuona\n",
      "tabiauea not found. Skipping...\n",
      "Processing Record 17 of set 6 | strezhevoy\n",
      "Processing Record 18 of set 6 | pozo colorado\n",
      "Processing Record 19 of set 6 | tiksi\n",
      "Processing Record 20 of set 6 | homer\n",
      "samalaeulu not found. Skipping...\n",
      "Processing Record 22 of set 6 | chimbote\n",
      "Processing Record 23 of set 6 | balatonlelle\n",
      "Processing Record 24 of set 6 | bayir\n",
      "Processing Record 25 of set 6 | vestmanna\n",
      "Processing Record 26 of set 6 | verdun\n",
      "Processing Record 27 of set 6 | eyl\n",
      "Processing Record 28 of set 6 | landeck\n",
      "Processing Record 29 of set 6 | lata\n",
      "Processing Record 30 of set 6 | fukue\n",
      "Processing Record 31 of set 6 | pochutla\n",
      "Processing Record 32 of set 6 | carauari\n",
      "Processing Record 33 of set 6 | sistranda\n",
      "Processing Record 34 of set 6 | aklavik\n",
      "Processing Record 35 of set 6 | bandrele\n",
      "yanan not found. Skipping...\n",
      "Processing Record 37 of set 6 | sakaiminato\n",
      "zolotinka not found. Skipping...\n",
      "Processing Record 39 of set 6 | laguna\n",
      "Processing Record 40 of set 6 | cordoba\n",
      "Processing Record 41 of set 6 | malanje\n",
      "Processing Record 42 of set 6 | burnie\n",
      "Processing Record 43 of set 6 | olesno\n",
      "Processing Record 44 of set 6 | deputatskiy\n",
      "Processing Record 45 of set 6 | kaeo\n",
      "bargal not found. Skipping...\n",
      "Processing Record 47 of set 6 | inirida\n",
      "Processing Record 48 of set 6 | siocon\n",
      "Processing Record 49 of set 6 | itupeva\n",
      "Processing Record 0 of set 7 | amapa\n",
      "barbar not found. Skipping...\n",
      "Processing Record 2 of set 7 | amahai\n",
      "Processing Record 3 of set 7 | geraldton\n",
      "Processing Record 4 of set 7 | harper\n",
      "Processing Record 5 of set 7 | hovd\n",
      "Processing Record 6 of set 7 | bilma\n",
      "amderma not found. Skipping...\n",
      "Processing Record 8 of set 7 | saint-louis\n",
      "Processing Record 9 of set 7 | sinazongwe\n",
      "Processing Record 10 of set 7 | pathein\n",
      "Processing Record 11 of set 7 | namatanai\n",
      "Processing Record 12 of set 7 | yining\n",
      "Processing Record 13 of set 7 | hambantota\n",
      "Processing Record 14 of set 7 | thinadhoo\n",
      "Processing Record 15 of set 7 | hirado\n",
      "Processing Record 16 of set 7 | balabac\n",
      "Processing Record 17 of set 7 | grindavik\n",
      "Processing Record 18 of set 7 | sao miguel do araguaia\n",
      "Processing Record 19 of set 7 | covington\n",
      "Processing Record 20 of set 7 | bandarbeyla\n",
      "Processing Record 21 of set 7 | oistins\n",
      "falealupo not found. Skipping...\n",
      "Processing Record 23 of set 7 | cabot\n",
      "Processing Record 24 of set 7 | vysokogornyy\n",
      "nam tha not found. Skipping...\n",
      "Processing Record 26 of set 7 | metro\n",
      "Processing Record 27 of set 7 | mar del plata\n",
      "Processing Record 28 of set 7 | christchurch\n",
      "rawannawi not found. Skipping...\n",
      "Processing Record 30 of set 7 | urzhum\n",
      "Processing Record 31 of set 7 | ketchikan\n",
      "Processing Record 32 of set 7 | mancio lima\n",
      "Processing Record 33 of set 7 | pedasi\n",
      "Processing Record 34 of set 7 | tomatlan\n",
      "sentyabrskiy not found. Skipping...\n",
      "Processing Record 36 of set 7 | quatre cocos\n",
      "Processing Record 37 of set 7 | bamiantong\n",
      "Processing Record 38 of set 7 | umm kaddadah\n",
      "Processing Record 39 of set 7 | marawi\n",
      "Processing Record 40 of set 7 | erdemli\n",
      "Processing Record 41 of set 7 | kargil\n",
      "Processing Record 42 of set 7 | meulaboh\n",
      "Processing Record 43 of set 7 | salasu de sus\n",
      "nizhneyansk not found. Skipping...\n",
      "Processing Record 45 of set 7 | sjovegan\n",
      "Processing Record 46 of set 7 | cururupu\n",
      "Processing Record 47 of set 7 | vanimo\n",
      "Processing Record 48 of set 7 | port blair\n",
      "Processing Record 49 of set 7 | luoyang\n",
      "Processing Record 0 of set 8 | wittmund\n",
      "tsihombe not found. Skipping...\n",
      "Processing Record 2 of set 8 | vostok\n",
      "Processing Record 3 of set 8 | meadow lake\n",
      "Processing Record 4 of set 8 | juegang\n",
      "Processing Record 5 of set 8 | sioux lookout\n",
      "Processing Record 6 of set 8 | iqaluit\n",
      "Processing Record 7 of set 8 | trincomalee\n",
      "Processing Record 8 of set 8 | provideniya\n",
      "Processing Record 9 of set 8 | bethel\n",
      "Processing Record 10 of set 8 | shaunavon\n",
      "Processing Record 11 of set 8 | qaracala\n",
      "Processing Record 12 of set 8 | mahajanga\n",
      "Processing Record 13 of set 8 | ucluelet\n",
      "Processing Record 14 of set 8 | kavieng\n",
      "okandja not found. Skipping...\n",
      "Processing Record 16 of set 8 | cidreira\n",
      "Processing Record 17 of set 8 | fort nelson\n",
      "Processing Record 18 of set 8 | touros\n",
      "Processing Record 19 of set 8 | cap malheureux\n",
      "Processing Record 20 of set 8 | dukat\n",
      "Processing Record 21 of set 8 | nakamura\n",
      "Processing Record 22 of set 8 | walvis bay\n",
      "Processing Record 23 of set 8 | pisco\n",
      "Processing Record 24 of set 8 | astana\n",
      "Processing Record 25 of set 8 | uspenka\n",
      "Processing Record 26 of set 8 | torring\n",
      "Processing Record 27 of set 8 | roald\n",
      "Processing Record 28 of set 8 | saint-pierre\n",
      "Processing Record 29 of set 8 | barcelos\n",
      "Processing Record 30 of set 8 | alghero\n",
      "Processing Record 31 of set 8 | kikwit\n",
      "Processing Record 32 of set 8 | lukulu\n",
      "Processing Record 33 of set 8 | berlevag\n",
      "Processing Record 34 of set 8 | bubaque\n",
      "afmadu not found. Skipping...\n",
      "Processing Record 36 of set 8 | ilo\n",
      "Processing Record 37 of set 8 | sikonge\n",
      "Processing Record 38 of set 8 | jinchang\n",
      "Processing Record 39 of set 8 | bichena\n",
      "Processing Record 40 of set 8 | olafsvik\n",
      "Processing Record 41 of set 8 | fairbanks\n",
      "Processing Record 42 of set 8 | perth\n",
      "Processing Record 43 of set 8 | kidal\n",
      "Processing Record 44 of set 8 | barreiras\n",
      "shaartuz not found. Skipping...\n",
      "Processing Record 46 of set 8 | tortoli\n",
      "Processing Record 47 of set 8 | sidi ali\n",
      "belushya guba not found. Skipping...\n",
      "Processing Record 49 of set 8 | mbandaka\n",
      "zhemchuzhnyy not found. Skipping...\n",
      "viligili not found. Skipping...\n",
      "Processing Record 2 of set 9 | batangafo\n",
      "Processing Record 3 of set 9 | alta floresta\n",
      "Processing Record 4 of set 9 | rassvet\n",
      "Processing Record 5 of set 9 | richards bay\n",
      "Processing Record 6 of set 9 | caianu mic\n",
      "Processing Record 7 of set 9 | nalut\n"
     ]
    },
    {
     "name": "stdout",
     "output_type": "stream",
     "text": [
      "samusu not found. Skipping...\n",
      "Processing Record 9 of set 9 | ahuimanu\n",
      "Processing Record 10 of set 9 | singaraja\n",
      "Processing Record 11 of set 9 | poronaysk\n",
      "Processing Record 12 of set 9 | xam nua\n",
      "Processing Record 13 of set 9 | valleyview\n",
      "Processing Record 14 of set 9 | santa maria\n",
      "Processing Record 15 of set 9 | trairi\n",
      "Processing Record 16 of set 9 | chernyy yar\n",
      "Processing Record 17 of set 9 | saint-augustin\n",
      "Processing Record 18 of set 9 | san policarpo\n",
      "Processing Record 19 of set 9 | cedar city\n",
      "Processing Record 20 of set 9 | padang\n",
      "Processing Record 21 of set 9 | narsaq\n",
      "Processing Record 22 of set 9 | vermillion\n",
      "Processing Record 23 of set 9 | kabansk\n",
      "Processing Record 24 of set 9 | acapulco\n",
      "Processing Record 25 of set 9 | aykhal\n",
      "Processing Record 26 of set 9 | valparaiso\n",
      "Processing Record 27 of set 9 | havelock\n",
      "Processing Record 28 of set 9 | korla\n",
      "Processing Record 29 of set 9 | half moon bay\n",
      "Processing Record 30 of set 9 | seymchan\n",
      "Processing Record 31 of set 9 | souillac\n",
      "Processing Record 32 of set 9 | lebu\n",
      "Processing Record 33 of set 9 | belmonte\n",
      "Processing Record 34 of set 9 | along\n",
      "Processing Record 35 of set 9 | bowen\n",
      "Processing Record 36 of set 9 | auki\n",
      "gumushane not found. Skipping...\n",
      "Processing Record 38 of set 9 | wanning\n",
      "Processing Record 39 of set 9 | jumla\n",
      "ayiasos not found. Skipping...\n",
      "Processing Record 41 of set 9 | bure\n",
      "Processing Record 42 of set 9 | iskateley\n",
      "Processing Record 43 of set 9 | muroto\n",
      "Processing Record 44 of set 9 | dabola\n",
      "Processing Record 45 of set 9 | gornyy\n",
      "Processing Record 46 of set 9 | szodliget\n",
      "Processing Record 47 of set 9 | gazanjyk\n",
      "Processing Record 48 of set 9 | sola\n",
      "Processing Record 49 of set 9 | berehove\n",
      "Processing Record 0 of set 10 | moose factory\n",
      "Processing Record 1 of set 10 | radomsko\n",
      "palabuhanratu not found. Skipping...\n",
      "Processing Record 3 of set 10 | naryan-mar\n",
      "Processing Record 4 of set 10 | bangui\n",
      "Processing Record 5 of set 10 | asfi\n",
      "Processing Record 6 of set 10 | muros\n",
      "Processing Record 7 of set 10 | dalbandin\n",
      "Processing Record 8 of set 10 | batsfjord\n",
      "Processing Record 9 of set 10 | warrnambool\n",
      "Processing Record 10 of set 10 | nuuk\n",
      "Processing Record 11 of set 10 | alekseyevsk\n",
      "Processing Record 12 of set 10 | galveston\n",
      "Processing Record 13 of set 10 | mapiripan\n",
      "ruatoria not found. Skipping...\n",
      "Processing Record 15 of set 10 | abu zabad\n",
      "Processing Record 16 of set 10 | quelimane\n",
      "Processing Record 17 of set 10 | nikel\n",
      "Processing Record 18 of set 10 | gorele\n",
      "Processing Record 19 of set 10 | mokhsogollokh\n",
      "Processing Record 20 of set 10 | surt\n",
      "Processing Record 21 of set 10 | ixtapa\n",
      "Processing Record 22 of set 10 | vihari\n",
      "Processing Record 23 of set 10 | valdivia\n",
      "Processing Record 24 of set 10 | osakarovka\n",
      "Processing Record 25 of set 10 | flinders\n",
      "Processing Record 26 of set 10 | chubbuck\n",
      "Processing Record 27 of set 10 | tungor\n",
      "Processing Record 28 of set 10 | owo\n",
      "Processing Record 29 of set 10 | port elizabeth\n",
      "Processing Record 30 of set 10 | esperance\n",
      "Processing Record 31 of set 10 | yarada\n",
      "Processing Record 32 of set 10 | santa isabel do rio negro\n",
      "Processing Record 33 of set 10 | lander\n",
      "Processing Record 34 of set 10 | dingle\n",
      "Processing Record 35 of set 10 | taoudenni\n",
      "Processing Record 36 of set 10 | okha\n",
      "Processing Record 37 of set 10 | manyana\n",
      "Processing Record 38 of set 10 | kathu\n",
      "Processing Record 39 of set 10 | nurlat\n",
      "Processing Record 40 of set 10 | toamasina\n",
      "Processing Record 41 of set 10 | santiago del estero\n",
      "Processing Record 42 of set 10 | omsukchan\n",
      "Processing Record 43 of set 10 | praia\n",
      "Processing Record 44 of set 10 | mamou\n",
      "Processing Record 45 of set 10 | nushki\n",
      "galgani not found. Skipping...\n",
      "Processing Record 47 of set 10 | cockburn town\n",
      "Processing Record 48 of set 10 | sangar\n",
      "Processing Record 49 of set 10 | okakarara\n",
      "Processing Record 0 of set 11 | manokwari\n",
      "Processing Record 1 of set 11 | coihaique\n",
      "Processing Record 2 of set 11 | raga\n",
      "Processing Record 3 of set 11 | keskin\n",
      "Processing Record 4 of set 11 | vesyegonsk\n",
      "Processing Record 5 of set 11 | las palmas\n",
      "Processing Record 6 of set 11 | maningrida\n",
      "Processing Record 7 of set 11 | topchikha\n",
      "labutta not found. Skipping...\n",
      "Processing Record 9 of set 11 | grand gaube\n",
      "Processing Record 10 of set 11 | waipawa\n",
      "Processing Record 11 of set 11 | asheboro\n",
      "Processing Record 12 of set 11 | ati\n",
      "Processing Record 13 of set 11 | malkangiri\n",
      "Processing Record 14 of set 11 | akyab\n",
      "Processing Record 15 of set 11 | taybad\n",
      "Processing Record 16 of set 11 | boueni\n",
      "Processing Record 17 of set 11 | beira\n",
      "Processing Record 18 of set 11 | nizhneudinsk\n",
      "Processing Record 19 of set 11 | nan\n",
      "Processing Record 20 of set 11 | catamarca\n",
      "Processing Record 21 of set 11 | tura\n",
      "Processing Record 22 of set 11 | pemberton\n",
      "Processing Record 23 of set 11 | kholmogory\n",
      "Processing Record 24 of set 11 | bhuban\n",
      "araguatins not found. Skipping...\n",
      "Processing Record 26 of set 11 | krasnoselkup\n",
      "karpuninskiy not found. Skipping...\n",
      "Processing Record 28 of set 11 | lozova\n",
      "Processing Record 29 of set 11 | galesong\n",
      "Processing Record 30 of set 11 | henties bay\n",
      "Processing Record 31 of set 11 | kem\n",
      "Processing Record 32 of set 11 | merauke\n",
      "Processing Record 33 of set 11 | chimore\n",
      "Processing Record 34 of set 11 | charagua\n",
      "Processing Record 35 of set 11 | mutoko\n",
      "Processing Record 36 of set 11 | tierra colorada\n",
      "Processing Record 37 of set 11 | babu\n",
      "Processing Record 38 of set 11 | kuhdasht\n",
      "Processing Record 39 of set 11 | usvyaty\n",
      "Processing Record 40 of set 11 | soyo\n",
      "Processing Record 41 of set 11 | luba\n",
      "Processing Record 42 of set 11 | ramnagar\n",
      "Processing Record 43 of set 11 | huntington\n",
      "Processing Record 44 of set 11 | san blas\n",
      "Processing Record 45 of set 11 | port angeles\n",
      "Processing Record 46 of set 11 | rabo de peixe\n",
      "Processing Record 47 of set 11 | calabozo\n",
      "Processing Record 48 of set 11 | nador\n",
      "yefimovskiy not found. Skipping...\n",
      "Processing Record 0 of set 12 | solntsevo\n",
      "Processing Record 1 of set 12 | isangel\n",
      "Processing Record 2 of set 12 | axim\n",
      "Processing Record 3 of set 12 | nhulunbuy\n",
      "Processing Record 4 of set 12 | limbe\n",
      "Processing Record 5 of set 12 | mvuma\n",
      "Processing Record 6 of set 12 | blyth\n",
      "Processing Record 7 of set 12 | barcelona\n",
      "khonuu not found. Skipping...\n",
      "Processing Record 9 of set 12 | ust-kuyga\n",
      "Processing Record 10 of set 12 | ewa beach\n",
      "Processing Record 11 of set 12 | mackenzie\n",
      "Processing Record 12 of set 12 | tutoia\n",
      "Processing Record 13 of set 12 | hervey bay\n",
      "Processing Record 14 of set 12 | mathbaria\n",
      "mentok not found. Skipping...\n",
      "Processing Record 16 of set 12 | la romana\n",
      "Processing Record 17 of set 12 | koslan\n",
      "Processing Record 18 of set 12 | ratnagiri\n",
      "Processing Record 19 of set 12 | matamoros\n",
      "Processing Record 20 of set 12 | kindu\n",
      "Processing Record 21 of set 12 | grasse\n",
      "Processing Record 22 of set 12 | broome\n",
      "Processing Record 23 of set 12 | adjumani\n",
      "Processing Record 24 of set 12 | wolgast\n",
      "Processing Record 25 of set 12 | cruzeiro do sul\n",
      "Processing Record 26 of set 12 | gamba\n",
      "Processing Record 27 of set 12 | lagoa\n",
      "Processing Record 28 of set 12 | komsomolskiy\n",
      "Processing Record 29 of set 12 | chicama\n",
      "Processing Record 30 of set 12 | udachnyy\n",
      "wulanhaote not found. Skipping...\n",
      "Processing Record 32 of set 12 | whitehorse\n",
      "Processing Record 33 of set 12 | aktash\n",
      "Processing Record 34 of set 12 | porto novo\n",
      "Processing Record 35 of set 12 | banda aceh\n",
      "Processing Record 36 of set 12 | pahrump\n",
      "Processing Record 37 of set 12 | shymkent\n",
      "Processing Record 38 of set 12 | katherine\n",
      "Processing Record 39 of set 12 | kaseda\n",
      "Processing Record 40 of set 12 | nemuro\n",
      "Processing Record 41 of set 12 | kisangani\n",
      "Processing Record 42 of set 12 | shahrud\n",
      "Processing Record 43 of set 12 | peniche\n",
      "Processing Record 44 of set 12 | danielskuil\n",
      "Processing Record 45 of set 12 | kruisfontein\n",
      "Processing Record 46 of set 12 | ahipara\n",
      "Processing Record 47 of set 12 | vredendal\n",
      "Processing Record 48 of set 12 | yar-sale\n",
      "Processing Record 49 of set 12 | veraval\n",
      "Processing Record 0 of set 13 | nouadhibou\n",
      "Processing Record 1 of set 13 | rawson\n",
      "Processing Record 2 of set 13 | saint george\n",
      "Processing Record 3 of set 13 | buncrana\n",
      "Processing Record 4 of set 13 | kerchevskiy\n",
      "Processing Record 5 of set 13 | tuatapere\n",
      "Processing Record 6 of set 13 | amboasary\n",
      "Processing Record 7 of set 13 | bonavista\n"
     ]
    },
    {
     "name": "stdout",
     "output_type": "stream",
     "text": [
      "Processing Record 8 of set 13 | dudinka\n",
      "Processing Record 9 of set 13 | baculin\n",
      "Processing Record 10 of set 13 | shingu\n",
      "Processing Record 11 of set 13 | kemin\n",
      "Processing Record 12 of set 13 | rio gallegos\n",
      "Processing Record 13 of set 13 | xinzhi\n",
      "Processing Record 14 of set 13 | abbeville\n",
      "skagastrond not found. Skipping...\n",
      "inderborskiy not found. Skipping...\n",
      "sataua not found. Skipping...\n",
      "Processing Record 18 of set 13 | kholm-zhirkovskiy\n",
      "Processing Record 19 of set 13 | nabire\n",
      "Processing Record 20 of set 13 | otane\n",
      "Processing Record 21 of set 13 | senanga\n",
      "Processing Record 22 of set 13 | port hawkesbury\n",
      "Processing Record 23 of set 13 | rovnoye\n",
      "Processing Record 24 of set 13 | dondo\n",
      "Processing Record 25 of set 13 | kabare\n",
      "Processing Record 26 of set 13 | andenes\n",
      "Processing Record 27 of set 13 | matagami\n",
      "haibowan not found. Skipping...\n",
      "Processing Record 29 of set 13 | lovozero\n",
      "Processing Record 30 of set 13 | talnakh\n",
      "camanci not found. Skipping...\n",
      "Processing Record 32 of set 13 | maumere\n",
      "Processing Record 33 of set 13 | alzamay\n",
      "Processing Record 34 of set 13 | constantine\n",
      "wolmaranstad not found. Skipping...\n",
      "Processing Record 36 of set 13 | orlik\n",
      "Processing Record 37 of set 13 | san jose\n",
      "grand centre not found. Skipping...\n",
      "Processing Record 39 of set 13 | flin flon\n",
      "Processing Record 40 of set 13 | benghazi\n",
      "Processing Record 41 of set 13 | angoram\n",
      "-----------------------------\n",
      "Data Retrieval Complete\n",
      "-----------------------------\n"
     ]
    }
   ],
   "source": [
    "# Save the needed information into arrays\n",
    "all_cities = []\n",
    "lon = []\n",
    "lat = []\n",
    "lat = []\n",
    "max_temp = []\n",
    "humidity = []\n",
    "clouds = []\n",
    "winds = []\n",
    "country = []\n",
    "temp_date = []\n",
    "\n",
    "# Initial counters\n",
    "count = 0\n",
    "set = 1\n",
    "\n",
    "# Start the url for the api call\n",
    "units = \"metric\"\n",
    "url = f\"http://api.openweathermap.org/data/2.5/weather?appid={weather_api_key}&units={units}&q=\"\n",
    "\n",
    "print(\"Beginning Data Retrieval\")\n",
    "print(\"-----------------------------\")\n",
    "\n",
    "# Loop through the list of cities and perform a request for data on each\n",
    "for city in cities:\n",
    "    \n",
    "    # If there have been 50 calls, make it sleep so we don't do too many calls in api limit\n",
    "    if count == 49:\n",
    "        time.sleep(1)\n",
    "        count = 0\n",
    "        set+= 1\n",
    "    else:\n",
    "        count +=1\n",
    "     \n",
    "    # Reguest the data and convert to json\n",
    "    response = requests.get(url + city).json()\n",
    "    \n",
    "    # Try to get the data from the response\n",
    "    try:\n",
    "        lon.append(response['coord']['lon'])\n",
    "        lat.append(response['coord']['lat'])\n",
    "        max_temp.append(response['main']['temp_max'])\n",
    "        humidity.append(response['main']['humidity'])\n",
    "        clouds.append(response['clouds']['all'])\n",
    "        winds.append(response['wind']['speed'])\n",
    "        country.append(response['sys']['country'])\n",
    "        temp_date.append(response['dt'])\n",
    "        all_cities.append(city)\n",
    "        \n",
    "        print(f\"Processing Record {count} of set {set} | {city}\")\n",
    "        \n",
    "    # If the api call did not work\n",
    "    except:\n",
    "        print(f\"{city} not found. Skipping...\")\n",
    "        \n",
    "print(\"-----------------------------\")\n",
    "print(\"Data Retrieval Complete\")\n",
    "print(\"-----------------------------\")\n",
    "\n"
   ]
  },
  {
   "cell_type": "markdown",
   "metadata": {},
   "source": [
    "### Convert Raw Data to DataFrame\n",
    "* Export the city data into a .csv.\n",
    "* Display the DataFrame"
   ]
  },
  {
   "cell_type": "code",
   "execution_count": 135,
   "metadata": {},
   "outputs": [
    {
     "data": {
      "text/html": [
       "<div>\n",
       "<style scoped>\n",
       "    .dataframe tbody tr th:only-of-type {\n",
       "        vertical-align: middle;\n",
       "    }\n",
       "\n",
       "    .dataframe tbody tr th {\n",
       "        vertical-align: top;\n",
       "    }\n",
       "\n",
       "    .dataframe thead th {\n",
       "        text-align: right;\n",
       "    }\n",
       "</style>\n",
       "<table border=\"1\" class=\"dataframe\">\n",
       "  <thead>\n",
       "    <tr style=\"text-align: right;\">\n",
       "      <th></th>\n",
       "      <th>City</th>\n",
       "      <th>Lat</th>\n",
       "      <th>Lng</th>\n",
       "      <th>Max Temp</th>\n",
       "      <th>Humidity</th>\n",
       "      <th>Cloudiness</th>\n",
       "      <th>Wind Speed</th>\n",
       "      <th>Country</th>\n",
       "      <th>Date</th>\n",
       "    </tr>\n",
       "  </thead>\n",
       "  <tbody>\n",
       "    <tr>\n",
       "      <th>0</th>\n",
       "      <td>mataura</td>\n",
       "      <td>-46.19</td>\n",
       "      <td>168.86</td>\n",
       "      <td>3.89</td>\n",
       "      <td>83</td>\n",
       "      <td>100</td>\n",
       "      <td>1.34</td>\n",
       "      <td>NZ</td>\n",
       "      <td>1595444293</td>\n",
       "    </tr>\n",
       "    <tr>\n",
       "      <th>1</th>\n",
       "      <td>puerto escondido</td>\n",
       "      <td>15.85</td>\n",
       "      <td>-97.07</td>\n",
       "      <td>29.00</td>\n",
       "      <td>74</td>\n",
       "      <td>40</td>\n",
       "      <td>5.10</td>\n",
       "      <td>MX</td>\n",
       "      <td>1595444344</td>\n",
       "    </tr>\n",
       "    <tr>\n",
       "      <th>2</th>\n",
       "      <td>kapaa</td>\n",
       "      <td>22.08</td>\n",
       "      <td>-159.32</td>\n",
       "      <td>26.67</td>\n",
       "      <td>100</td>\n",
       "      <td>90</td>\n",
       "      <td>1.49</td>\n",
       "      <td>US</td>\n",
       "      <td>1595444010</td>\n",
       "    </tr>\n",
       "    <tr>\n",
       "      <th>3</th>\n",
       "      <td>mahebourg</td>\n",
       "      <td>-20.41</td>\n",
       "      <td>57.70</td>\n",
       "      <td>20.00</td>\n",
       "      <td>68</td>\n",
       "      <td>40</td>\n",
       "      <td>5.10</td>\n",
       "      <td>MU</td>\n",
       "      <td>1595444061</td>\n",
       "    </tr>\n",
       "    <tr>\n",
       "      <th>4</th>\n",
       "      <td>leningradskiy</td>\n",
       "      <td>69.38</td>\n",
       "      <td>178.42</td>\n",
       "      <td>14.89</td>\n",
       "      <td>50</td>\n",
       "      <td>100</td>\n",
       "      <td>2.98</td>\n",
       "      <td>RU</td>\n",
       "      <td>1595444088</td>\n",
       "    </tr>\n",
       "  </tbody>\n",
       "</table>\n",
       "</div>"
      ],
      "text/plain": [
       "               City    Lat     Lng  Max Temp  Humidity  Cloudiness  \\\n",
       "0           mataura -46.19  168.86      3.89        83         100   \n",
       "1  puerto escondido  15.85  -97.07     29.00        74          40   \n",
       "2             kapaa  22.08 -159.32     26.67       100          90   \n",
       "3         mahebourg -20.41   57.70     20.00        68          40   \n",
       "4     leningradskiy  69.38  178.42     14.89        50         100   \n",
       "\n",
       "   Wind Speed Country        Date  \n",
       "0        1.34      NZ  1595444293  \n",
       "1        5.10      MX  1595444344  \n",
       "2        1.49      US  1595444010  \n",
       "3        5.10      MU  1595444061  \n",
       "4        2.98      RU  1595444088  "
      ]
     },
     "execution_count": 135,
     "metadata": {},
     "output_type": "execute_result"
    }
   ],
   "source": [
    "# Make a dictionary\n",
    "weather_dict = {\n",
    "    \"City\": all_cities,\n",
    "    \"Lat\": lat,\n",
    "    \"Lng\": lon,\n",
    "    \"Max Temp\": max_temp,\n",
    "    \"Humidity\": humidity,\n",
    "    \"Cloudiness\": clouds,\n",
    "    \"Wind Speed\": winds,\n",
    "    \"Country\": country,\n",
    "    \"Date\": temp_date\n",
    "}\n",
    "\n",
    "# Convert to data frame\n",
    "weather_data = pd.DataFrame(weather_dict)\n",
    "\n",
    "# Save to .csv\n",
    "weather_data.to_csv('../output_data/cities.csv')\n",
    "\n",
    "# Print out first 5 rows\n",
    "weather_data.head()\n"
   ]
  },
  {
   "cell_type": "markdown",
   "metadata": {},
   "source": [
    "## Inspect the data and remove the cities where the humidity > 100%.\n",
    "----\n",
    "Skip this step if there are no cities that have humidity > 100%. "
   ]
  },
  {
   "cell_type": "code",
   "execution_count": 109,
   "metadata": {},
   "outputs": [
    {
     "data": {
      "text/html": [
       "<div>\n",
       "<style scoped>\n",
       "    .dataframe tbody tr th:only-of-type {\n",
       "        vertical-align: middle;\n",
       "    }\n",
       "\n",
       "    .dataframe tbody tr th {\n",
       "        vertical-align: top;\n",
       "    }\n",
       "\n",
       "    .dataframe thead th {\n",
       "        text-align: right;\n",
       "    }\n",
       "</style>\n",
       "<table border=\"1\" class=\"dataframe\">\n",
       "  <thead>\n",
       "    <tr style=\"text-align: right;\">\n",
       "      <th></th>\n",
       "      <th>City</th>\n",
       "      <th>Lat</th>\n",
       "      <th>Lng</th>\n",
       "      <th>Max Temp</th>\n",
       "      <th>Humidity</th>\n",
       "      <th>Cloudiness</th>\n",
       "      <th>Wind Speed</th>\n",
       "      <th>Country</th>\n",
       "      <th>Date</th>\n",
       "    </tr>\n",
       "  </thead>\n",
       "  <tbody>\n",
       "  </tbody>\n",
       "</table>\n",
       "</div>"
      ],
      "text/plain": [
       "Empty DataFrame\n",
       "Columns: [City, Lat, Lng, Max Temp, Humidity, Cloudiness, Wind Speed, Country, Date]\n",
       "Index: []"
      ]
     },
     "execution_count": 109,
     "metadata": {},
     "output_type": "execute_result"
    }
   ],
   "source": [
    "# Check if any cities have a humidity more than100%\n",
    "humid_cities = weather_data.loc[weather_data['Humidity'] > 100, : ]\n",
    "humid_cities"
   ]
  },
  {
   "cell_type": "code",
   "execution_count": 92,
   "metadata": {},
   "outputs": [
    {
     "data": {
      "text/plain": [
       "Int64Index([], dtype='int64')"
      ]
     },
     "execution_count": 92,
     "metadata": {},
     "output_type": "execute_result"
    }
   ],
   "source": [
    "#  Get the indices of cities that have humidity over 100%.\n",
    "humid_list = humid_cities.index\n",
    "humid_list"
   ]
  },
  {
   "cell_type": "code",
   "execution_count": 17,
   "metadata": {},
   "outputs": [
    {
     "data": {
      "text/html": [
       "<div>\n",
       "<style scoped>\n",
       "    .dataframe tbody tr th:only-of-type {\n",
       "        vertical-align: middle;\n",
       "    }\n",
       "\n",
       "    .dataframe tbody tr th {\n",
       "        vertical-align: top;\n",
       "    }\n",
       "\n",
       "    .dataframe thead th {\n",
       "        text-align: right;\n",
       "    }\n",
       "</style>\n",
       "<table border=\"1\" class=\"dataframe\">\n",
       "  <thead>\n",
       "    <tr style=\"text-align: right;\">\n",
       "      <th></th>\n",
       "      <th>City</th>\n",
       "      <th>Lat</th>\n",
       "      <th>Lng</th>\n",
       "      <th>Max Temp</th>\n",
       "      <th>Humidity</th>\n",
       "      <th>Cloudiness</th>\n",
       "      <th>Wind Speed</th>\n",
       "      <th>Country</th>\n",
       "      <th>Date</th>\n",
       "    </tr>\n",
       "  </thead>\n",
       "  <tbody>\n",
       "    <tr>\n",
       "      <th>0</th>\n",
       "      <td>mataura</td>\n",
       "      <td>-46.19</td>\n",
       "      <td>168.86</td>\n",
       "      <td>3.89</td>\n",
       "      <td>83</td>\n",
       "      <td>100</td>\n",
       "      <td>1.34</td>\n",
       "      <td>NZ</td>\n",
       "      <td>1595444293</td>\n",
       "    </tr>\n",
       "    <tr>\n",
       "      <th>1</th>\n",
       "      <td>puerto escondido</td>\n",
       "      <td>15.85</td>\n",
       "      <td>-97.07</td>\n",
       "      <td>29.00</td>\n",
       "      <td>74</td>\n",
       "      <td>40</td>\n",
       "      <td>5.10</td>\n",
       "      <td>MX</td>\n",
       "      <td>1595444344</td>\n",
       "    </tr>\n",
       "    <tr>\n",
       "      <th>2</th>\n",
       "      <td>kapaa</td>\n",
       "      <td>22.08</td>\n",
       "      <td>-159.32</td>\n",
       "      <td>26.67</td>\n",
       "      <td>100</td>\n",
       "      <td>90</td>\n",
       "      <td>1.49</td>\n",
       "      <td>US</td>\n",
       "      <td>1595444010</td>\n",
       "    </tr>\n",
       "    <tr>\n",
       "      <th>3</th>\n",
       "      <td>mahebourg</td>\n",
       "      <td>-20.41</td>\n",
       "      <td>57.70</td>\n",
       "      <td>20.00</td>\n",
       "      <td>68</td>\n",
       "      <td>40</td>\n",
       "      <td>5.10</td>\n",
       "      <td>MU</td>\n",
       "      <td>1595444061</td>\n",
       "    </tr>\n",
       "    <tr>\n",
       "      <th>4</th>\n",
       "      <td>leningradskiy</td>\n",
       "      <td>69.38</td>\n",
       "      <td>178.42</td>\n",
       "      <td>14.89</td>\n",
       "      <td>50</td>\n",
       "      <td>100</td>\n",
       "      <td>2.98</td>\n",
       "      <td>RU</td>\n",
       "      <td>1595444088</td>\n",
       "    </tr>\n",
       "    <tr>\n",
       "      <th>...</th>\n",
       "      <td>...</td>\n",
       "      <td>...</td>\n",
       "      <td>...</td>\n",
       "      <td>...</td>\n",
       "      <td>...</td>\n",
       "      <td>...</td>\n",
       "      <td>...</td>\n",
       "      <td>...</td>\n",
       "      <td>...</td>\n",
       "    </tr>\n",
       "    <tr>\n",
       "      <th>571</th>\n",
       "      <td>orlik</td>\n",
       "      <td>52.52</td>\n",
       "      <td>99.83</td>\n",
       "      <td>12.07</td>\n",
       "      <td>83</td>\n",
       "      <td>100</td>\n",
       "      <td>0.59</td>\n",
       "      <td>RU</td>\n",
       "      <td>1595444652</td>\n",
       "    </tr>\n",
       "    <tr>\n",
       "      <th>572</th>\n",
       "      <td>san jose</td>\n",
       "      <td>37.34</td>\n",
       "      <td>-121.89</td>\n",
       "      <td>25.00</td>\n",
       "      <td>41</td>\n",
       "      <td>0</td>\n",
       "      <td>1.79</td>\n",
       "      <td>US</td>\n",
       "      <td>1595444653</td>\n",
       "    </tr>\n",
       "    <tr>\n",
       "      <th>573</th>\n",
       "      <td>flin flon</td>\n",
       "      <td>54.77</td>\n",
       "      <td>-101.86</td>\n",
       "      <td>25.00</td>\n",
       "      <td>61</td>\n",
       "      <td>40</td>\n",
       "      <td>3.10</td>\n",
       "      <td>CA</td>\n",
       "      <td>1595444360</td>\n",
       "    </tr>\n",
       "    <tr>\n",
       "      <th>574</th>\n",
       "      <td>benghazi</td>\n",
       "      <td>32.12</td>\n",
       "      <td>20.07</td>\n",
       "      <td>24.98</td>\n",
       "      <td>73</td>\n",
       "      <td>0</td>\n",
       "      <td>5.18</td>\n",
       "      <td>LY</td>\n",
       "      <td>1595444528</td>\n",
       "    </tr>\n",
       "    <tr>\n",
       "      <th>575</th>\n",
       "      <td>angoram</td>\n",
       "      <td>-4.06</td>\n",
       "      <td>144.07</td>\n",
       "      <td>22.62</td>\n",
       "      <td>98</td>\n",
       "      <td>25</td>\n",
       "      <td>0.93</td>\n",
       "      <td>PG</td>\n",
       "      <td>1595444654</td>\n",
       "    </tr>\n",
       "  </tbody>\n",
       "</table>\n",
       "<p>576 rows × 9 columns</p>\n",
       "</div>"
      ],
      "text/plain": [
       "                 City    Lat     Lng  Max Temp  Humidity  Cloudiness  \\\n",
       "0             mataura -46.19  168.86      3.89        83         100   \n",
       "1    puerto escondido  15.85  -97.07     29.00        74          40   \n",
       "2               kapaa  22.08 -159.32     26.67       100          90   \n",
       "3           mahebourg -20.41   57.70     20.00        68          40   \n",
       "4       leningradskiy  69.38  178.42     14.89        50         100   \n",
       "..                ...    ...     ...       ...       ...         ...   \n",
       "571             orlik  52.52   99.83     12.07        83         100   \n",
       "572          san jose  37.34 -121.89     25.00        41           0   \n",
       "573         flin flon  54.77 -101.86     25.00        61          40   \n",
       "574          benghazi  32.12   20.07     24.98        73           0   \n",
       "575           angoram  -4.06  144.07     22.62        98          25   \n",
       "\n",
       "     Wind Speed Country        Date  \n",
       "0          1.34      NZ  1595444293  \n",
       "1          5.10      MX  1595444344  \n",
       "2          1.49      US  1595444010  \n",
       "3          5.10      MU  1595444061  \n",
       "4          2.98      RU  1595444088  \n",
       "..          ...     ...         ...  \n",
       "571        0.59      RU  1595444652  \n",
       "572        1.79      US  1595444653  \n",
       "573        3.10      CA  1595444360  \n",
       "574        5.18      LY  1595444528  \n",
       "575        0.93      PG  1595444654  \n",
       "\n",
       "[576 rows x 9 columns]"
      ]
     },
     "execution_count": 17,
     "metadata": {},
     "output_type": "execute_result"
    }
   ],
   "source": [
    "# Make a new DataFrame equal to the city data to drop all humidity outliers by index.\n",
    "# Passing \"inplace=False\" will make a copy of the city_data DataFrame, which we call \"clean_city_data\".\n",
    "clean_city_data = weather_data[weather_data[\"Humidity\"] <= 100]\n",
    "clean_city_data"
   ]
  },
  {
   "cell_type": "markdown",
   "metadata": {},
   "source": [
    "## Plotting the Data\n",
    "* Use proper labeling of the plots using plot titles (including date of analysis) and axes labels.\n",
    "* Save the plotted figures as .pngs."
   ]
  },
  {
   "cell_type": "markdown",
   "metadata": {},
   "source": [
    "## Latitude vs. Temperature Plot"
   ]
  },
  {
   "cell_type": "code",
   "execution_count": 133,
   "metadata": {
    "scrolled": true
   },
   "outputs": [
    {
     "data": {
      "image/png": "[encoded data removed]",
      "text/plain": [
       "<Figure size 432x288 with 1 Axes>"
      ]
     },
     "metadata": {
      "needs_background": "light"
     },
     "output_type": "display_data"
    }
   ],
   "source": [
    "# Create the scattor plot graphs\n",
    "\n",
    "plt.scatter(weather_data[\"Lat\"], weather_data[\"Max Temp\"], marker=\"*\", color=\"green\")\n",
    "plt.title(\"City Latitude vs Temperature\")\n",
    "plt.xlabel(\"Latitude\")\n",
    "plt.ylabel(\"Max Temperature\")\n",
    "\n",
    "# Save the graph\n",
    "plt.savefig('../output_data/fig1.png')\n",
    "\n",
    "plt.show()"
   ]
  },
  {
   "cell_type": "markdown",
   "metadata": {},
   "source": [
    "## Latitude vs. Humidity Plot"
   ]
  },
  {
   "cell_type": "code",
   "execution_count": 137,
   "metadata": {},
   "outputs": [
    {
     "data": {
      "image/png": "[encoded data removed]",
      "text/plain": [
       "<Figure size 432x288 with 1 Axes>"
      ]
     },
     "metadata": {
      "needs_background": "light"
     },
     "output_type": "display_data"
    }
   ],
   "source": [
    "plt.scatter(weather_data[\"Lat\"], weather_data[\"Humidity\"], marker=\"*\", color=\"green\")\n",
    "plt.title(\"City Latitude vs Humidity\")\n",
    "plt.xlabel(\"Latitude\")\n",
    "plt.ylabel(\"Humidity\")\n",
    "\n",
    "# Save the graph\n",
    "plt.savefig(\"../output_data/fig2.png\")\n",
    "\n",
    "plt.show()"
   ]
  },
  {
   "cell_type": "markdown",
   "metadata": {},
   "source": [
    "## Latitude vs. Cloudiness Plot"
   ]
  },
  {
   "cell_type": "code",
   "execution_count": 138,
   "metadata": {},
   "outputs": [
    {
     "data": {
      "image/png": "[encoded data removed]",
      "text/plain": [
       "<Figure size 432x288 with 1 Axes>"
      ]
     },
     "metadata": {
      "needs_background": "light"
     },
     "output_type": "display_data"
    }
   ],
   "source": [
    "plt.scatter(weather_data[\"Lat\"], weather_data[\"Cloudiness\"], marker=\"*\", color=\"green\")\n",
    "plt.title(\"City Latitude vs Cloudiness\")\n",
    "plt.xlabel(\"Latitude\")\n",
    "plt.ylabel(\"Cloudiness\")\n",
    "\n",
    "# Save the graph\n",
    "plt.savefig(\"../output_data/fig3.png\")\n",
    "\n",
    "plt.show()"
   ]
  },
  {
   "cell_type": "markdown",
   "metadata": {},
   "source": [
    "## Latitude vs. Wind Speed Plot"
   ]
  },
  {
   "cell_type": "code",
   "execution_count": 139,
   "metadata": {},
   "outputs": [
    {
     "data": {
      "image/png": "[encoded data removed]",
      "text/plain": [
       "<Figure size 432x288 with 1 Axes>"
      ]
     },
     "metadata": {
      "needs_background": "light"
     },
     "output_type": "display_data"
    }
   ],
   "source": [
    "plt.scatter(weather_data[\"Lat\"], weather_data[\"Wind Speed\"], marker=\"*\", color=\"green\")\n",
    "plt.title(\"City Latitude vs Wind Speed\")\n",
    "plt.xlabel(\"Latitude\")\n",
    "plt.ylabel(\"Wind Speed\")\n",
    "\n",
    "# Save the graph\n",
    "plt.savefig(\"../output_data/fig4.png\")\n",
    "\n",
    "plt.show()"
   ]
  },
  {
   "cell_type": "markdown",
   "metadata": {},
   "source": [
    "## Linear Regression"
   ]
  },
  {
   "cell_type": "code",
   "execution_count": 97,
   "metadata": {},
   "outputs": [],
   "source": [
    "# OPTIONAL: Create a function to create Linear Regression plots"
   ]
  },
  {
   "cell_type": "code",
   "execution_count": 98,
   "metadata": {},
   "outputs": [],
   "source": [
    "# Create Northern and Southern Hemisphere DataFrames\n",
    "northern_city_data = clean_city_data[clean_city_data[\"Lat\"] > 0]\n",
    "southern_city_data = clean_city_data[clean_city_data[\"Lat\"] < 0]"
   ]
  },
  {
   "cell_type": "markdown",
   "metadata": {},
   "source": [
    "####  Northern Hemisphere - Max Temp vs. Latitude Linear Regression"
   ]
  },
  {
   "cell_type": "code",
   "execution_count": 99,
   "metadata": {},
   "outputs": [
    {
     "name": "stdout",
     "output_type": "stream",
     "text": [
      "The correlation between latitude and max temp is: -0.72\n"
     ]
    },
    {
     "data": {
      "image/png": "[encoded data removed]",
      "text/plain": [
       "<Figure size 432x288 with 1 Axes>"
      ]
     },
     "metadata": {
      "needs_background": "light"
     },
     "output_type": "display_data"
    }
   ],
   "source": [
    "# Do the linear regressions\n",
    "\n",
    "x_axis = northern_city_data[\"Lat\"]\n",
    "y_axis = northern_city_data[\"Max Temp\"]\n",
    "\n",
    "correlation = st.pearsonr(x_axis, y_axis)\n",
    "\n",
    "(slope, intercept, rvalue, pvalue, stderr) = linregress(x_axis, y_axis)\n",
    "regress_values = x_axis * slope + intercept\n",
    "line_eq = \"y = \" + str(round(slope,2)) + \"x + \" + str(round(intercept,2))\n",
    "\n",
    "plt.scatter(x_axis, y_axis, marker=\"*\", color=\"blue\")\n",
    "plt.plot(x_axis,regress_values, 'r-')\n",
    "plt.annotate(line_eq, (28,40), fontsize=18, color=\"red\")\n",
    "\n",
    "plt.title(\"Northern Hemisphere City Latitude vs Max Temp\")\n",
    "plt.xlabel(\"Latitude\")\n",
    "plt.ylabel(\"Max Temp\")\n",
    "\n",
    "print(f\"The correlation between latitude and max temp is: {round(correlation[0],2)}\")\n",
    "\n",
    "plt.show()"
   ]
  },
  {
   "cell_type": "markdown",
   "metadata": {},
   "source": [
    "####  Southern Hemisphere - Max Temp vs. Latitude Linear Regression"
   ]
  },
  {
   "cell_type": "code",
   "execution_count": 100,
   "metadata": {},
   "outputs": [
    {
     "name": "stdout",
     "output_type": "stream",
     "text": [
      "The correlation between latitude and max temp is: 0.81\n"
     ]
    },
    {
     "data": {
      "image/png": "[encoded data removed]",
      "text/plain": [
       "<Figure size 432x288 with 1 Axes>"
      ]
     },
     "metadata": {
      "needs_background": "light"
     },
     "output_type": "display_data"
    }
   ],
   "source": [
    "x_axis = southern_city_data[\"Lat\"]\n",
    "y_axis = southern_city_data[\"Max Temp\"]\n",
    "\n",
    "correlation = st.pearsonr(x_axis, y_axis)\n",
    "\n",
    "(slope, intercept, rvalue, pvalue, stderr) = linregress(x_axis, y_axis)\n",
    "regress_values = x_axis * slope + intercept\n",
    "line_eq = \"y = \" + str(round(slope,2)) + \"x + \" + str(round(intercept,2))\n",
    "\n",
    "plt.scatter(x_axis, y_axis, marker=\"*\", color=\"blue\")\n",
    "plt.plot(x_axis,regress_values, 'r-')\n",
    "plt.annotate(line_eq, (-30,2), fontsize=18, color=\"red\")\n",
    "\n",
    "plt.title(\"Southern Hemisphere City Latitude vs Max Temp\")\n",
    "plt.xlabel(\"Latitude\")\n",
    "plt.ylabel(\"Max Temp\")\n",
    "\n",
    "print(f\"The correlation between latitude and max temp is: {round(correlation[0],2)}\")\n",
    "\n",
    "plt.show()"
   ]
  },
  {
   "cell_type": "markdown",
   "metadata": {},
   "source": [
    "####  Northern Hemisphere - Humidity (%) vs. Latitude Linear Regression"
   ]
  },
  {
   "cell_type": "code",
   "execution_count": 101,
   "metadata": {},
   "outputs": [
    {
     "name": "stdout",
     "output_type": "stream",
     "text": [
      "The correlation between latitude and humidity is: 0.0\n"
     ]
    },
    {
     "data": {
      "image/png": "[encoded data removed]",
      "text/plain": [
       "<Figure size 432x288 with 1 Axes>"
      ]
     },
     "metadata": {
      "needs_background": "light"
     },
     "output_type": "display_data"
    }
   ],
   "source": [
    "x_axis = northern_city_data[\"Lat\"]\n",
    "y_axis = northern_city_data[\"Humidity\"]\n",
    "\n",
    "correlation = st.pearsonr(x_axis, y_axis)\n",
    "\n",
    "(slope, intercept, rvalue, pvalue, stderr) = linregress(x_axis, y_axis)\n",
    "regress_values = x_axis * slope + intercept\n",
    "line_eq = \"y = \" + str(round(slope,2)) + \"x + \" + str(round(intercept,2))\n",
    "\n",
    "plt.scatter(x_axis, y_axis, marker=\"*\", color=\"blue\")\n",
    "plt.plot(x_axis,regress_values, 'r-')\n",
    "plt.annotate(line_eq, (40,10), fontsize=18, color=\"red\")\n",
    "\n",
    "plt.title(\"Northern Hemisphere City Latitude vs Humidity\")\n",
    "plt.xlabel(\"Latitude\")\n",
    "plt.ylabel(\"Humidity\")\n",
    "\n",
    "print(f\"The correlation between latitude and humidity is: {round(correlation[0],2)}\")\n",
    "\n",
    "plt.show()"
   ]
  },
  {
   "cell_type": "markdown",
   "metadata": {},
   "source": [
    "####  Southern Hemisphere - Humidity (%) vs. Latitude Linear Regression"
   ]
  },
  {
   "cell_type": "code",
   "execution_count": 102,
   "metadata": {},
   "outputs": [
    {
     "name": "stdout",
     "output_type": "stream",
     "text": [
      "The correlation between latitude and humidity is: -0.18\n"
     ]
    },
    {
     "data": {
      "image/png": "[encoded data removed]",
      "text/plain": [
       "<Figure size 432x288 with 1 Axes>"
      ]
     },
     "metadata": {
      "needs_background": "light"
     },
     "output_type": "display_data"
    }
   ],
   "source": [
    "x_axis = southern_city_data[\"Lat\"]\n",
    "y_axis = southern_city_data[\"Humidity\"]\n",
    "\n",
    "correlation = st.pearsonr(x_axis, y_axis)\n",
    "\n",
    "(slope, intercept, rvalue, pvalue, stderr) = linregress(x_axis, y_axis)\n",
    "regress_values = x_axis * slope + intercept\n",
    "line_eq = \"y = \" + str(round(slope,2)) + \"x + \" + str(round(intercept,2))\n",
    "\n",
    "plt.scatter(x_axis, y_axis, marker=\"*\", color=\"blue\")\n",
    "plt.plot(x_axis,regress_values, 'r-')\n",
    "plt.annotate(line_eq, (-30,5), fontsize=18, color=\"red\")\n",
    "\n",
    "plt.title(\"Southern Hemisphere City Latitude vs Max Humidity\")\n",
    "plt.xlabel(\"Latitude\")\n",
    "plt.ylabel(\"Humidity\")\n",
    "\n",
    "print(f\"The correlation between latitude and humidity is: {round(correlation[0],2)}\")\n",
    "\n",
    "plt.show()"
   ]
  },
  {
   "cell_type": "markdown",
   "metadata": {},
   "source": [
    "####  Northern Hemisphere - Cloudiness (%) vs. Latitude Linear Regression"
   ]
  },
  {
   "cell_type": "code",
   "execution_count": 103,
   "metadata": {},
   "outputs": [
    {
     "name": "stdout",
     "output_type": "stream",
     "text": [
      "The correlation between latitude and cloudiness is: -0.05\n"
     ]
    },
    {
     "data": {
      "image/png": "[encoded data removed]",
      "text/plain": [
       "<Figure size 432x288 with 1 Axes>"
      ]
     },
     "metadata": {
      "needs_background": "light"
     },
     "output_type": "display_data"
    }
   ],
   "source": [
    "x_axis = northern_city_data[\"Lat\"]\n",
    "y_axis = northern_city_data[\"Cloudiness\"]\n",
    "\n",
    "correlation = st.pearsonr(x_axis, y_axis)\n",
    "\n",
    "(slope, intercept, rvalue, pvalue, stderr) = linregress(x_axis, y_axis)\n",
    "regress_values = x_axis * slope + intercept\n",
    "line_eq = \"y = \" + str(round(slope,2)) + \"x + \" + str(round(intercept,2))\n",
    "\n",
    "plt.scatter(x_axis, y_axis, marker=\"*\", color=\"blue\")\n",
    "plt.plot(x_axis,regress_values, 'r-')\n",
    "plt.annotate(line_eq, (28,28), fontsize=18, color=\"red\")\n",
    "\n",
    "plt.title(\"Northern Hemisphere City Latitude vs Cloudiness\")\n",
    "plt.xlabel(\"Latitude\")\n",
    "plt.ylabel(\"Cloudiness\")\n",
    "\n",
    "print(f\"The correlation between latitude and cloudiness is: {round(correlation[0],2)}\")\n",
    "\n",
    "plt.show()"
   ]
  },
  {
   "cell_type": "markdown",
   "metadata": {},
   "source": [
    "####  Southern Hemisphere - Cloudiness (%) vs. Latitude Linear Regression"
   ]
  },
  {
   "cell_type": "code",
   "execution_count": 104,
   "metadata": {},
   "outputs": [
    {
     "name": "stdout",
     "output_type": "stream",
     "text": [
      "The correlation between latitude and cloudiness is: -0.09\n"
     ]
    },
    {
     "data": {
      "image/png": "[encoded data removed]",
      "text/plain": [
       "<Figure size 432x288 with 1 Axes>"
      ]
     },
     "metadata": {
      "needs_background": "light"
     },
     "output_type": "display_data"
    }
   ],
   "source": [
    "x_axis = southern_city_data[\"Lat\"]\n",
    "y_axis = southern_city_data[\"Cloudiness\"]\n",
    "\n",
    "correlation = st.pearsonr(x_axis, y_axis)\n",
    "\n",
    "(slope, intercept, rvalue, pvalue, stderr) = linregress(x_axis, y_axis)\n",
    "regress_values = x_axis * slope + intercept\n",
    "line_eq = \"y = \" + str(round(slope,2)) + \"x + \" + str(round(intercept,2))\n",
    "\n",
    "plt.scatter(x_axis, y_axis, marker=\"*\", color=\"blue\")\n",
    "plt.plot(x_axis,regress_values, 'r-')\n",
    "plt.annotate(line_eq, (-40,28), fontsize=18, color=\"red\")\n",
    "\n",
    "plt.title(\"Southern Hemisphere City Latitude vs Cloudiness\")\n",
    "plt.xlabel(\"Latitude\")\n",
    "plt.ylabel(\"Cloudiness\")\n",
    "\n",
    "print(f\"The correlation between latitude and cloudiness is: {round(correlation[0],2)}\")\n",
    "\n",
    "plt.show()"
   ]
  },
  {
   "cell_type": "markdown",
   "metadata": {},
   "source": [
    "####  Northern Hemisphere - Wind Speed (mph) vs. Latitude Linear Regression"
   ]
  },
  {
   "cell_type": "code",
   "execution_count": 105,
   "metadata": {},
   "outputs": [
    {
     "name": "stdout",
     "output_type": "stream",
     "text": [
      "The correlation between latitude and wind speed is: 0.09\n"
     ]
    },
    {
     "data": {
      "image/png": "[encoded data removed]",
      "text/plain": [
       "<Figure size 432x288 with 1 Axes>"
      ]
     },
     "metadata": {
      "needs_background": "light"
     },
     "output_type": "display_data"
    }
   ],
   "source": [
    "x_axis = northern_city_data[\"Lat\"]\n",
    "y_axis = northern_city_data[\"Wind Speed\"]\n",
    "\n",
    "correlation = st.pearsonr(x_axis, y_axis)\n",
    "\n",
    "(slope, intercept, rvalue, pvalue, stderr) = linregress(x_axis, y_axis)\n",
    "regress_values = x_axis * slope + intercept\n",
    "line_eq = \"y = \" + str(round(slope,2)) + \"x + \" + str(round(intercept,2))\n",
    "\n",
    "plt.scatter(x_axis, y_axis, marker=\"*\", color=\"blue\")\n",
    "plt.plot(x_axis,regress_values, 'r-')\n",
    "plt.annotate(line_eq, (5,11), fontsize=18, color=\"red\")\n",
    "\n",
    "plt.title(\"Northern Hemisphere City Latitude vs Wind Speed)\")\n",
    "plt.xlabel(\"Latitude\")\n",
    "plt.ylabel(\"Wind Speed\")\n",
    "\n",
    "print(f\"The correlation between latitude and wind speed is: {round(correlation[0],2)}\")\n",
    "\n",
    "plt.show()"
   ]
  },
  {
   "cell_type": "markdown",
   "metadata": {},
   "source": [
    "####  Southern Hemisphere - Wind Speed (mph) vs. Latitude Linear Regression"
   ]
  },
  {
   "cell_type": "code",
   "execution_count": 106,
   "metadata": {},
   "outputs": [
    {
     "name": "stdout",
     "output_type": "stream",
     "text": [
      "The correlation between latitude and wind speed is: 0.02\n"
     ]
    },
    {
     "data": {
      "image/png": "[encoded data removed]",
      "text/plain": [
       "<Figure size 432x288 with 1 Axes>"
      ]
     },
     "metadata": {
      "needs_background": "light"
     },
     "output_type": "display_data"
    }
   ],
   "source": [
    "x_axis = southern_city_data[\"Lat\"]\n",
    "y_axis = southern_city_data[\"Wind Speed\"]\n",
    "\n",
    "correlation = st.pearsonr(x_axis, y_axis)\n",
    "\n",
    "(slope, intercept, rvalue, pvalue, stderr) = linregress(x_axis, y_axis)\n",
    "regress_values = x_axis * slope + intercept\n",
    "line_eq = \"y = \" + str(round(slope,2)) + \"x + \" + str(round(intercept,2))\n",
    "\n",
    "plt.scatter(x_axis, y_axis, marker=\"*\", color=\"blue\")\n",
    "plt.plot(x_axis,regress_values, 'r-')\n",
    "plt.annotate(line_eq, (-40,6), fontsize=18, color=\"red\")\n",
    "\n",
    "plt.title(\"Southern Hemisphere City Latitude vs Wind Speed)\")\n",
    "plt.xlabel(\"Latitude\")\n",
    "plt.ylabel(\"Wind Speed\")\n",
    "\n",
    "print(f\"The correlation between latitude and wind speed is: {round(correlation[0],2)}\")\n",
    "\n",
    "plt.show()"
   ]
  },
  {
   "cell_type": "code",
   "execution_count": null,
   "metadata": {},
   "outputs": [],
   "source": []
  }
 ],
 "metadata": {
  "anaconda-cloud": {},
  "kernel_info": {
   "name": "python3"
  },
  "kernelspec": {
   "display_name": "Python 3",
   "language": "python",
   "name": "python3"
  },
  "language_info": {
   "codemirror_mode": {
    "name": "ipython",
    "version": 3
   },
   "file_extension": ".py",
   "mimetype": "text/x-python",
   "name": "python",
   "nbconvert_exporter": "python",
   "pygments_lexer": "ipython3",
   "version": "3.6.10"
  },
  "latex_envs": {
   "LaTeX_envs_menu_present": true,
   "autoclose": false,
   "autocomplete": true,
   "bibliofile": "biblio.bib",
   "cite_by": "apalike",
   "current_citInitial": 1,
   "eqLabelWithNumbers": true,
   "eqNumInitial": 1,
   "hotkeys": {
    "equation": "Ctrl-E",
    "itemize": "Ctrl-I"
   },
   "labels_anchors": false,
   "latex_user_defs": false,
   "report_style_numbering": false,
   "user_envs_cfg": false
  },
  "nteract": {
   "version": "0.12.3"
  }
 },
 "nbformat": 4,
 "nbformat_minor": 2
}
