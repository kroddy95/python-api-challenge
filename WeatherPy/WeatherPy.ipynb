{
 "cells": [
  {
   "cell_type": "markdown",
   "metadata": {},
   "source": [
    "# WeatherPy\n",
    "----\n",
    "\n",
    "#### Note\n",
    "* Instructions have been included for each segment. You do not have to follow them exactly, but they are included to help you think through the steps."
   ]
  },
  {
   "cell_type": "code",
   "execution_count": 1,
   "metadata": {
    "scrolled": true
   },
   "outputs": [],
   "source": [
    "# Dependencies and Setup\n",
    "import matplotlib.pyplot as plt\n",
    "import pandas as pd\n",
    "import numpy as np\n",
    "import requests\n",
    "import time\n",
    "import scipy.stats as st\n",
    "from scipy.stats import linregress\n",
    "\n",
    "# Import API key\n",
    "from api_keys import weather_api_key\n",
    "\n",
    "# Incorporated citipy to determine city based on latitude and longitude\n",
    "from citipy import citipy\n",
    "\n",
    "# Output File (CSV)\n",
    "output_data_file = \"output_data/cities.csv\"\n",
    "\n",
    "# Range of latitudes and longitudes\n",
    "lat_range = (-90, 90)\n",
    "lng_range = (-180, 180)"
   ]
  },
  {
   "cell_type": "markdown",
   "metadata": {},
   "source": [
    "## Generate Cities List"
   ]
  },
  {
   "cell_type": "code",
   "execution_count": 2,
   "metadata": {},
   "outputs": [
    {
     "data": {
      "text/plain": [
       "613"
      ]
     },
     "execution_count": 2,
     "metadata": {},
     "output_type": "execute_result"
    }
   ],
   "source": [
    "# List for holding lat_lngs and cities\n",
    "lat_lngs = []\n",
    "cities = []\n",
    "\n",
    "# Create a set of random lat and lng combinations\n",
    "lats = np.random.uniform(lat_range[0], lat_range[1], size=1500)\n",
    "lngs = np.random.uniform(lng_range[0], lng_range[1], size=1500)\n",
    "lat_lngs = zip(lats, lngs)\n",
    "\n",
    "# Identify nearest city for each lat, lng combination\n",
    "for lat_lng in lat_lngs:\n",
    "    city = citipy.nearest_city(lat_lng[0], lat_lng[1]).city_name\n",
    "    \n",
    "    # If the city is unique, then add it to a our cities list\n",
    "    if city not in cities:\n",
    "        cities.append(city)\n",
    "\n",
    "# Print the city count to confirm sufficient count\n",
    "len(cities)"
   ]
  },
  {
   "cell_type": "markdown",
   "metadata": {},
   "source": [
    "### Perform API Calls\n",
    "* Perform a weather check on each city using a series of successive API calls.\n",
    "* Include a print log of each city as it'sbeing processed (with the city number and city name).\n"
   ]
  },
  {
   "cell_type": "code",
   "execution_count": 3,
   "metadata": {},
   "outputs": [
    {
     "name": "stdout",
     "output_type": "stream",
     "text": [
      "Beginning Data Retrieval\n",
      "-----------------------------\n",
      "Processing Record 1 of set 1 | henderson\n",
      "Processing Record 2 of set 1 | cherskiy\n",
      "Processing Record 3 of set 1 | port alfred\n",
      "Processing Record 4 of set 1 | santiago del estero\n",
      "Processing Record 5 of set 1 | khatanga\n",
      "Processing Record 6 of set 1 | alice springs\n",
      "Processing Record 7 of set 1 | igurusi\n",
      "Processing Record 8 of set 1 | teguldet\n",
      "Processing Record 9 of set 1 | port lincoln\n",
      "Processing Record 10 of set 1 | taoudenni\n",
      "Processing Record 11 of set 1 | yellowknife\n",
      "Processing Record 12 of set 1 | talnakh\n",
      "Processing Record 13 of set 1 | new norfolk\n",
      "Processing Record 14 of set 1 | airai\n",
      "Processing Record 15 of set 1 | albany\n",
      "Processing Record 16 of set 1 | cairns\n",
      "Processing Record 17 of set 1 | luderitz\n",
      "taolanaro not found. Skipping...\n",
      "Processing Record 19 of set 1 | hermanus\n",
      "Processing Record 20 of set 1 | healdsburg\n",
      "Processing Record 21 of set 1 | katherine\n",
      "Processing Record 22 of set 1 | anloga\n",
      "amderma not found. Skipping...\n",
      "Processing Record 24 of set 1 | tombouctou\n",
      "Processing Record 25 of set 1 | qaqortoq\n",
      "Processing Record 26 of set 1 | ericeira\n",
      "Processing Record 27 of set 1 | kipushi\n",
      "Processing Record 28 of set 1 | hobart\n",
      "Processing Record 29 of set 1 | constitucion\n",
      "Processing Record 30 of set 1 | bluff\n",
      "Processing Record 31 of set 1 | busselton\n",
      "Processing Record 32 of set 1 | port elizabeth\n",
      "Processing Record 33 of set 1 | torbay\n",
      "Processing Record 34 of set 1 | cape town\n",
      "Processing Record 35 of set 1 | paithan\n",
      "Processing Record 36 of set 1 | victoria\n",
      "Processing Record 37 of set 1 | faya\n",
      "bolungarvik not found. Skipping...\n",
      "Processing Record 39 of set 1 | chuy\n",
      "Processing Record 40 of set 1 | klaksvik\n",
      "Processing Record 41 of set 1 | vestmannaeyjar\n",
      "Processing Record 42 of set 1 | ushuaia\n",
      "belushya guba not found. Skipping...\n",
      "Processing Record 44 of set 1 | honningsvag\n",
      "Processing Record 45 of set 1 | jamestown\n",
      "Processing Record 46 of set 1 | pevek\n",
      "Processing Record 47 of set 1 | sile\n",
      "Processing Record 48 of set 1 | vaini\n",
      "Processing Record 49 of set 1 | port hardy\n",
      "temaraia not found. Skipping...\n",
      "Processing Record 1 of set 2 | punta arenas\n",
      "Processing Record 2 of set 2 | mataura\n",
      "Processing Record 3 of set 2 | waingapu\n",
      "Processing Record 4 of set 2 | butaritari\n",
      "Processing Record 5 of set 2 | bundaberg\n",
      "Processing Record 6 of set 2 | taltal\n",
      "Processing Record 7 of set 2 | westport\n",
      "kadykchan not found. Skipping...\n",
      "Processing Record 9 of set 2 | temir\n",
      "Processing Record 10 of set 2 | beringovskiy\n",
      "Processing Record 11 of set 2 | sokolo\n",
      "Processing Record 12 of set 2 | half moon bay\n",
      "Processing Record 13 of set 2 | atuona\n",
      "Processing Record 14 of set 2 | saint-pierre\n",
      "Processing Record 15 of set 2 | rikitea\n",
      "Processing Record 16 of set 2 | muros\n",
      "Processing Record 17 of set 2 | mar del plata\n",
      "barentsburg not found. Skipping...\n",
      "Processing Record 19 of set 2 | makat\n",
      "Processing Record 20 of set 2 | bubaque\n",
      "Processing Record 21 of set 2 | guane\n",
      "araguatins not found. Skipping...\n",
      "Processing Record 23 of set 2 | narsaq\n",
      "Processing Record 24 of set 2 | parrita\n",
      "Processing Record 25 of set 2 | leningradskiy\n",
      "Processing Record 26 of set 2 | comodoro rivadavia\n",
      "Processing Record 27 of set 2 | raymond terrace\n",
      "Processing Record 28 of set 2 | bananeiras\n",
      "Processing Record 29 of set 2 | visby\n",
      "Processing Record 30 of set 2 | sabha\n",
      "Processing Record 31 of set 2 | kapaa\n",
      "bargal not found. Skipping...\n",
      "Processing Record 33 of set 2 | puerto ayora\n",
      "Processing Record 34 of set 2 | mazyr\n",
      "Processing Record 35 of set 2 | lucapa\n",
      "Processing Record 36 of set 2 | petropavlovsk-kamchatskiy\n",
      "Processing Record 37 of set 2 | whitehorse\n",
      "Processing Record 38 of set 2 | debelec\n",
      "Processing Record 39 of set 2 | coahuayana\n",
      "Processing Record 40 of set 2 | clyde river\n",
      "Processing Record 41 of set 2 | saint-augustin\n",
      "Processing Record 42 of set 2 | mkushi\n",
      "Processing Record 43 of set 2 | novorudnyy\n",
      "Processing Record 44 of set 2 | ribeira grande\n",
      "Processing Record 45 of set 2 | tual\n",
      "attawapiskat not found. Skipping...\n",
      "Processing Record 47 of set 2 | misawa\n",
      "Processing Record 48 of set 2 | strelka\n",
      "Processing Record 49 of set 2 | lagunas\n",
      "Processing Record 0 of set 3 | hilo\n",
      "Processing Record 1 of set 3 | sibolga\n",
      "Processing Record 2 of set 3 | san quintin\n",
      "Processing Record 3 of set 3 | bredasdorp\n",
      "Processing Record 4 of set 3 | honolulu\n",
      "Processing Record 5 of set 3 | la asuncion\n",
      "Processing Record 6 of set 3 | tasiilaq\n",
      "Processing Record 7 of set 3 | sawakin\n",
      "tsihombe not found. Skipping...\n",
      "Processing Record 9 of set 3 | foca\n",
      "Processing Record 10 of set 3 | padang\n",
      "Processing Record 11 of set 3 | bethel\n",
      "Processing Record 12 of set 3 | maarianhamina\n",
      "Processing Record 13 of set 3 | hithadhoo\n",
      "Processing Record 14 of set 3 | veinticinco de mayo\n",
      "Processing Record 15 of set 3 | yeppoon\n",
      "Processing Record 16 of set 3 | byron bay\n",
      "Processing Record 17 of set 3 | alta floresta\n",
      "Processing Record 18 of set 3 | blagoveshchenka\n",
      "Processing Record 19 of set 3 | sorland\n",
      "Processing Record 20 of set 3 | castlegar\n",
      "Processing Record 21 of set 3 | qarchak\n",
      "Processing Record 22 of set 3 | ussel\n",
      "Processing Record 23 of set 3 | sambava\n",
      "Processing Record 24 of set 3 | nome\n",
      "Processing Record 25 of set 3 | las vegas\n",
      "Processing Record 26 of set 3 | homer\n",
      "ruatoria not found. Skipping...\n",
      "Processing Record 28 of set 3 | kavieng\n",
      "nizhneyansk not found. Skipping...\n",
      "Processing Record 30 of set 3 | kodiak\n",
      "Processing Record 31 of set 3 | coihaique\n",
      "Processing Record 32 of set 3 | jardim\n",
      "Processing Record 33 of set 3 | zyryanka\n",
      "Processing Record 34 of set 3 | sola\n",
      "Processing Record 35 of set 3 | korhogo\n",
      "Processing Record 36 of set 3 | marawi\n",
      "Processing Record 37 of set 3 | isilkul\n",
      "Processing Record 38 of set 3 | provideniya\n",
      "Processing Record 39 of set 3 | cassilandia\n",
      "Processing Record 40 of set 3 | kaitangata\n",
      "Processing Record 41 of set 3 | bay roberts\n",
      "Processing Record 42 of set 3 | saskylakh\n",
      "Processing Record 43 of set 3 | tuktoyaktuk\n",
      "Processing Record 44 of set 3 | tiksi\n",
      "Processing Record 45 of set 3 | souillac\n",
      "Processing Record 46 of set 3 | iqaluit\n",
      "Processing Record 47 of set 3 | vanavara\n",
      "Processing Record 48 of set 3 | zabid\n",
      "achisay not found. Skipping...\n",
      "fort saint john not found. Skipping...\n",
      "Processing Record 1 of set 4 | mount isa\n",
      "Processing Record 2 of set 4 | chilmari\n",
      "Processing Record 3 of set 4 | hasaki\n",
      "Processing Record 4 of set 4 | bilma\n",
      "Processing Record 5 of set 4 | portland\n",
      "Processing Record 6 of set 4 | qaanaaq\n",
      "Processing Record 7 of set 4 | mareeba\n",
      "Processing Record 8 of set 4 | thompson\n",
      "Processing Record 9 of set 4 | chokurdakh\n",
      "Processing Record 10 of set 4 | bayangol\n",
      "Processing Record 11 of set 4 | lebu\n",
      "Processing Record 12 of set 4 | mahebourg\n",
      "Processing Record 13 of set 4 | san vicente\n",
      "Processing Record 14 of set 4 | arraial do cabo\n",
      "saleaula not found. Skipping...\n",
      "Processing Record 16 of set 4 | faanui\n",
      "Processing Record 17 of set 4 | vila franca do campo\n",
      "Processing Record 18 of set 4 | ternate\n",
      "Processing Record 19 of set 4 | xining\n",
      "Processing Record 20 of set 4 | estrela\n",
      "Processing Record 21 of set 4 | jonesboro\n",
      "Processing Record 22 of set 4 | upernavik\n",
      "Processing Record 23 of set 4 | khuzdar\n",
      "Processing Record 24 of set 4 | geraldton\n",
      "Processing Record 25 of set 4 | opuwo\n",
      "Processing Record 26 of set 4 | batalha\n",
      "Processing Record 27 of set 4 | tunduma\n",
      "Processing Record 28 of set 4 | urbana\n",
      "Processing Record 29 of set 4 | coquimbo\n",
      "Processing Record 30 of set 4 | broome\n",
      "Processing Record 31 of set 4 | camacupa\n",
      "tanjong sepat not found. Skipping...\n",
      "Processing Record 33 of set 4 | namalenga\n",
      "Processing Record 34 of set 4 | naze\n",
      "Processing Record 35 of set 4 | saint george\n",
      "Processing Record 36 of set 4 | myanaung\n",
      "Processing Record 37 of set 4 | mayo\n",
      "Processing Record 38 of set 4 | bambous virieux\n",
      "Processing Record 39 of set 4 | avarua\n",
      "Processing Record 40 of set 4 | bengkulu\n",
      "Processing Record 41 of set 4 | sinjar\n",
      "Processing Record 42 of set 4 | barrow\n",
      "Processing Record 43 of set 4 | saint-leu\n",
      "Processing Record 44 of set 4 | adrar\n",
      "Processing Record 45 of set 4 | baykit\n",
      "Processing Record 46 of set 4 | rawson\n",
      "Processing Record 47 of set 4 | dikson\n",
      "Processing Record 48 of set 4 | menongue\n",
      "mocambique not found. Skipping...\n",
      "Processing Record 0 of set 5 | parry sound\n",
      "Processing Record 1 of set 5 | severo-kurilsk\n"
     ]
    },
    {
     "name": "stdout",
     "output_type": "stream",
     "text": [
      "artyk not found. Skipping...\n",
      "Processing Record 3 of set 5 | port-cartier\n",
      "Processing Record 4 of set 5 | georgetown\n",
      "Processing Record 5 of set 5 | carnarvon\n",
      "Processing Record 6 of set 5 | santa cruz\n",
      "Processing Record 7 of set 5 | markkleeberg\n",
      "Processing Record 8 of set 5 | kabinda\n",
      "Processing Record 9 of set 5 | naples\n",
      "Processing Record 10 of set 5 | san cristobal\n",
      "Processing Record 11 of set 5 | belyy yar\n",
      "Processing Record 12 of set 5 | hofn\n",
      "Processing Record 13 of set 5 | sylvan lake\n",
      "mys shmidta not found. Skipping...\n",
      "Processing Record 15 of set 5 | castro\n",
      "Processing Record 16 of set 5 | klyuchi\n",
      "Processing Record 17 of set 5 | aklavik\n",
      "Processing Record 18 of set 5 | sabang\n",
      "Processing Record 19 of set 5 | saint-philippe\n",
      "Processing Record 20 of set 5 | hambantota\n",
      "Processing Record 21 of set 5 | sinnamary\n",
      "Processing Record 22 of set 5 | pitimbu\n",
      "Processing Record 23 of set 5 | maniitsoq\n",
      "Processing Record 24 of set 5 | alofi\n",
      "Processing Record 25 of set 5 | nikolskoye\n",
      "Processing Record 26 of set 5 | aguimes\n",
      "illoqqortoormiut not found. Skipping...\n",
      "Processing Record 28 of set 5 | olga\n",
      "Processing Record 29 of set 5 | baijiantan\n",
      "Processing Record 30 of set 5 | oblivskaya\n",
      "Processing Record 31 of set 5 | guerrero negro\n",
      "manzil jamil not found. Skipping...\n",
      "Processing Record 33 of set 5 | sistranda\n",
      "Processing Record 34 of set 5 | sao filipe\n",
      "Processing Record 35 of set 5 | les trois-ilets\n",
      "vaitupu not found. Skipping...\n",
      "Processing Record 37 of set 5 | margate\n",
      "Processing Record 38 of set 5 | visnes\n",
      "Processing Record 39 of set 5 | georgiyevka\n",
      "Processing Record 40 of set 5 | morondava\n",
      "Processing Record 41 of set 5 | ostrovnoy\n",
      "Processing Record 42 of set 5 | kristinehamn\n",
      "Processing Record 43 of set 5 | scottsbluff\n",
      "Processing Record 44 of set 5 | huilong\n",
      "Processing Record 45 of set 5 | alamogordo\n",
      "Processing Record 46 of set 5 | altamont\n",
      "Processing Record 47 of set 5 | nicoya\n",
      "Processing Record 48 of set 5 | penzance\n",
      "Processing Record 49 of set 5 | havre-saint-pierre\n",
      "Processing Record 0 of set 6 | tolaga bay\n",
      "Processing Record 1 of set 6 | saint anthony\n",
      "Processing Record 2 of set 6 | getulio vargas\n",
      "Processing Record 3 of set 6 | backo petrovo selo\n",
      "Processing Record 4 of set 6 | saldanha\n",
      "Processing Record 5 of set 6 | ilulissat\n",
      "Processing Record 6 of set 6 | biskamzha\n",
      "Processing Record 7 of set 6 | pierre\n",
      "Processing Record 8 of set 6 | rosetta\n",
      "Processing Record 9 of set 6 | sioux lookout\n",
      "Processing Record 10 of set 6 | tianpeng\n",
      "Processing Record 11 of set 6 | shache\n",
      "Processing Record 12 of set 6 | yar-sale\n",
      "Processing Record 13 of set 6 | north bend\n",
      "Processing Record 14 of set 6 | nelson bay\n",
      "Processing Record 15 of set 6 | norman wells\n",
      "Processing Record 16 of set 6 | odienne\n",
      "Processing Record 17 of set 6 | chifeng\n",
      "Processing Record 18 of set 6 | lata\n",
      "Processing Record 19 of set 6 | roma\n",
      "Processing Record 20 of set 6 | san rafael\n",
      "Processing Record 21 of set 6 | qobustan\n",
      "Processing Record 22 of set 6 | cayenne\n",
      "Processing Record 23 of set 6 | abu dhabi\n",
      "Processing Record 24 of set 6 | praia\n",
      "Processing Record 25 of set 6 | balaipungut\n",
      "Processing Record 26 of set 6 | avanigadda\n",
      "Processing Record 27 of set 6 | murgab\n",
      "Processing Record 28 of set 6 | poum\n",
      "Processing Record 29 of set 6 | pendleton\n",
      "Processing Record 30 of set 6 | mlimba\n",
      "Processing Record 31 of set 6 | esperance\n",
      "Processing Record 32 of set 6 | uige\n",
      "Processing Record 33 of set 6 | susanville\n",
      "Processing Record 34 of set 6 | coronado\n",
      "Processing Record 35 of set 6 | solnechnyy\n",
      "Processing Record 36 of set 6 | yekaterinovka\n",
      "Processing Record 37 of set 6 | vrangel\n",
      "Processing Record 38 of set 6 | porto novo\n",
      "Processing Record 39 of set 6 | mastic beach\n",
      "samusu not found. Skipping...\n",
      "Processing Record 41 of set 6 | fortuna\n",
      "Processing Record 42 of set 6 | havelock\n",
      "Processing Record 43 of set 6 | rio grande\n",
      "Processing Record 44 of set 6 | nanortalik\n",
      "Processing Record 45 of set 6 | isangel\n",
      "Processing Record 46 of set 6 | whyalla\n",
      "Processing Record 47 of set 6 | matola\n",
      "Processing Record 48 of set 6 | pestovo\n",
      "Processing Record 49 of set 6 | paamiut\n",
      "Processing Record 0 of set 7 | fare\n",
      "Processing Record 1 of set 7 | ucluelet\n",
      "Processing Record 2 of set 7 | plettenberg bay\n",
      "Processing Record 3 of set 7 | ust-tsilma\n",
      "Processing Record 4 of set 7 | george town\n",
      "Processing Record 5 of set 7 | samarai\n",
      "Processing Record 6 of set 7 | fairbanks\n",
      "Processing Record 7 of set 7 | salalah\n",
      "umzimvubu not found. Skipping...\n",
      "Processing Record 9 of set 7 | lasa\n",
      "Processing Record 10 of set 7 | fuyu\n",
      "Processing Record 11 of set 7 | mobaye\n",
      "Processing Record 12 of set 7 | vostok\n",
      "Processing Record 13 of set 7 | marihatag\n",
      "Processing Record 14 of set 7 | cap malheureux\n",
      "Processing Record 15 of set 7 | east london\n",
      "Processing Record 16 of set 7 | pangnirtung\n",
      "Processing Record 17 of set 7 | vardo\n",
      "chagda not found. Skipping...\n",
      "Processing Record 19 of set 7 | san patricio\n",
      "Processing Record 20 of set 7 | galle\n",
      "Processing Record 21 of set 7 | hami\n",
      "Processing Record 22 of set 7 | guiratinga\n",
      "Processing Record 23 of set 7 | sitka\n",
      "Processing Record 24 of set 7 | krasnyy yar\n",
      "Processing Record 25 of set 7 | ahipara\n",
      "Processing Record 26 of set 7 | labuhan\n",
      "Processing Record 27 of set 7 | henties bay\n",
      "Processing Record 28 of set 7 | paita\n",
      "Processing Record 29 of set 7 | linxia\n",
      "Processing Record 30 of set 7 | ponta do sol\n",
      "Processing Record 31 of set 7 | ransang\n",
      "warqla not found. Skipping...\n",
      "Processing Record 33 of set 7 | sunagawa\n",
      "Processing Record 34 of set 7 | ponnani\n",
      "Processing Record 35 of set 7 | bonavista\n",
      "paradwip not found. Skipping...\n",
      "Processing Record 37 of set 7 | nishihara\n",
      "Processing Record 38 of set 7 | owando\n",
      "Processing Record 39 of set 7 | nioro\n",
      "Processing Record 40 of set 7 | lufilufi\n",
      "Processing Record 41 of set 7 | nizhniy kuranakh\n",
      "Processing Record 42 of set 7 | tateyama\n",
      "Processing Record 43 of set 7 | kayes\n",
      "ondorhaan not found. Skipping...\n",
      "Processing Record 45 of set 7 | fort nelson\n",
      "sentyabrskiy not found. Skipping...\n",
      "Processing Record 47 of set 7 | lompoc\n",
      "Processing Record 48 of set 7 | pisco\n",
      "Processing Record 49 of set 7 | asau\n",
      "Processing Record 0 of set 8 | salinas\n",
      "Processing Record 1 of set 8 | tautira\n",
      "Processing Record 2 of set 8 | cockburn town\n",
      "Processing Record 3 of set 8 | prince george\n",
      "Processing Record 4 of set 8 | mandera\n",
      "Processing Record 5 of set 8 | cristobal obregon\n",
      "Processing Record 6 of set 8 | malmesbury\n",
      "Processing Record 7 of set 8 | oudtshoorn\n",
      "Processing Record 8 of set 8 | grand forks\n",
      "Processing Record 9 of set 8 | erzin\n",
      "Processing Record 10 of set 8 | kuytun\n",
      "Processing Record 11 of set 8 | wajima\n",
      "Processing Record 12 of set 8 | sao domingos do maranhao\n",
      "Processing Record 13 of set 8 | kavaratti\n",
      "Processing Record 14 of set 8 | kamenka\n",
      "Processing Record 15 of set 8 | lamar\n",
      "Processing Record 16 of set 8 | muzhi\n",
      "Processing Record 17 of set 8 | srednekolymsk\n",
      "Processing Record 18 of set 8 | tiarei\n",
      "Processing Record 19 of set 8 | namibe\n",
      "Processing Record 20 of set 8 | macia\n",
      "Processing Record 21 of set 8 | meulaboh\n",
      "Processing Record 22 of set 8 | quatre cocos\n",
      "Processing Record 23 of set 8 | abu kamal\n",
      "Processing Record 24 of set 8 | longyearbyen\n",
      "Processing Record 25 of set 8 | wapi pathum\n",
      "Processing Record 26 of set 8 | nalut\n",
      "Processing Record 27 of set 8 | moose factory\n",
      "Processing Record 28 of set 8 | dinghai\n",
      "Processing Record 29 of set 8 | gat\n",
      "Processing Record 30 of set 8 | zaysan\n",
      "Processing Record 31 of set 8 | pangkalanbuun\n",
      "Processing Record 32 of set 8 | oranjemund\n",
      "skagastrond not found. Skipping...\n",
      "Processing Record 34 of set 8 | kloulklubed\n",
      "Processing Record 35 of set 8 | manadhoo\n",
      "Processing Record 36 of set 8 | vila velha\n",
      "Processing Record 37 of set 8 | elbistan\n",
      "Processing Record 38 of set 8 | plouzane\n",
      "Processing Record 39 of set 8 | hukuntsi\n",
      "Processing Record 40 of set 8 | ayr\n",
      "Processing Record 41 of set 8 | beyneu\n",
      "Processing Record 42 of set 8 | natal\n",
      "Processing Record 43 of set 8 | petrokamenskoye\n",
      "Processing Record 44 of set 8 | garden city\n",
      "Processing Record 45 of set 8 | richards bay\n",
      "Processing Record 46 of set 8 | majene\n",
      "mutsamudu not found. Skipping...\n",
      "Processing Record 48 of set 8 | batagay\n",
      "Processing Record 49 of set 8 | poltavka\n",
      "karaul not found. Skipping...\n",
      "Processing Record 1 of set 9 | taksimo\n",
      "Processing Record 2 of set 9 | george\n",
      "Processing Record 3 of set 9 | batemans bay\n"
     ]
    },
    {
     "name": "stdout",
     "output_type": "stream",
     "text": [
      "Processing Record 4 of set 9 | gashua\n",
      "Processing Record 5 of set 9 | baculin\n",
      "Processing Record 6 of set 9 | galesong\n",
      "Processing Record 7 of set 9 | tamandare\n",
      "Processing Record 8 of set 9 | tuatapere\n",
      "Processing Record 9 of set 9 | tromso\n",
      "Processing Record 10 of set 9 | fairmont\n",
      "Processing Record 11 of set 9 | dharchula\n",
      "Processing Record 12 of set 9 | tarrega\n",
      "viligili not found. Skipping...\n",
      "Processing Record 14 of set 9 | batagay-alyta\n",
      "Processing Record 15 of set 9 | marshall\n",
      "Processing Record 16 of set 9 | elliot lake\n",
      "Processing Record 17 of set 9 | zhireken\n",
      "Processing Record 18 of set 9 | ambilobe\n",
      "Processing Record 19 of set 9 | morunglav\n",
      "Processing Record 20 of set 9 | tahoua\n",
      "Processing Record 21 of set 9 | altus\n",
      "satitoa not found. Skipping...\n",
      "Processing Record 23 of set 9 | bronnoysund\n",
      "Processing Record 24 of set 9 | lagoa\n",
      "Processing Record 25 of set 9 | timizart\n",
      "Processing Record 26 of set 9 | cukai\n",
      "Processing Record 27 of set 9 | cacule\n",
      "Processing Record 28 of set 9 | ossora\n",
      "Processing Record 29 of set 9 | monrovia\n",
      "Processing Record 30 of set 9 | salvador\n",
      "Processing Record 31 of set 9 | cabo san lucas\n",
      "Processing Record 32 of set 9 | pizarro\n",
      "Processing Record 33 of set 9 | neuquen\n",
      "Processing Record 34 of set 9 | makueni\n",
      "Processing Record 35 of set 9 | bathsheba\n",
      "Processing Record 36 of set 9 | channel-port aux basques\n",
      "Processing Record 37 of set 9 | gikongoro\n",
      "Processing Record 38 of set 9 | iquitos\n",
      "Processing Record 39 of set 9 | isla mujeres\n",
      "Processing Record 40 of set 9 | altay\n",
      "Processing Record 41 of set 9 | puri\n",
      "Processing Record 42 of set 9 | zarichne\n",
      "Processing Record 43 of set 9 | barcelona\n",
      "Processing Record 44 of set 9 | port macquarie\n",
      "Processing Record 45 of set 9 | college station\n",
      "Processing Record 46 of set 9 | karratha\n",
      "Processing Record 47 of set 9 | praya\n",
      "Processing Record 48 of set 9 | fianarantsoa\n",
      "Processing Record 49 of set 9 | milkovo\n",
      "Processing Record 0 of set 10 | mielec\n",
      "Processing Record 1 of set 10 | polunochnoye\n",
      "Processing Record 2 of set 10 | pacific grove\n",
      "Processing Record 3 of set 10 | bridgetown\n",
      "Processing Record 4 of set 10 | belaya gora\n",
      "Processing Record 5 of set 10 | encheng\n",
      "Processing Record 6 of set 10 | tagusao\n",
      "Processing Record 7 of set 10 | seoul\n",
      "Processing Record 8 of set 10 | kyzyl-suu\n",
      "Processing Record 9 of set 10 | sept-iles\n",
      "Processing Record 10 of set 10 | auki\n",
      "Processing Record 11 of set 10 | badulla\n",
      "Processing Record 12 of set 10 | husavik\n",
      "Processing Record 13 of set 10 | kedougou\n",
      "Processing Record 14 of set 10 | doha\n",
      "Processing Record 15 of set 10 | mana\n",
      "Processing Record 16 of set 10 | yulara\n",
      "Processing Record 17 of set 10 | vega de alatorre\n",
      "Processing Record 18 of set 10 | sarangani\n",
      "Processing Record 19 of set 10 | hearst\n",
      "Processing Record 20 of set 10 | ancud\n",
      "Processing Record 21 of set 10 | beckley\n",
      "Processing Record 22 of set 10 | port hedland\n",
      "primore not found. Skipping...\n",
      "Processing Record 24 of set 10 | buala\n",
      "Processing Record 25 of set 10 | nairobi\n",
      "Processing Record 26 of set 10 | ketchikan\n",
      "Processing Record 27 of set 10 | cootamundra\n",
      "Processing Record 28 of set 10 | lavrentiya\n",
      "Processing Record 29 of set 10 | olenegorsk\n",
      "Processing Record 30 of set 10 | tazovskiy\n",
      "Processing Record 31 of set 10 | banda aceh\n",
      "Processing Record 32 of set 10 | maragogi\n",
      "Processing Record 33 of set 10 | port-de-bouc\n",
      "Processing Record 34 of set 10 | kencong\n",
      "Processing Record 35 of set 10 | sauda\n",
      "Processing Record 36 of set 10 | wuwei\n",
      "duzici not found. Skipping...\n",
      "Processing Record 38 of set 10 | katsuura\n",
      "Processing Record 39 of set 10 | vicksburg\n",
      "Processing Record 40 of set 10 | kalevala\n",
      "Processing Record 41 of set 10 | farah\n",
      "Processing Record 42 of set 10 | cacapava do sul\n",
      "Processing Record 43 of set 10 | hamilton\n",
      "Processing Record 44 of set 10 | sosnovo-ozerskoye\n",
      "Processing Record 45 of set 10 | acari\n",
      "Processing Record 46 of set 10 | bardiyah\n",
      "Processing Record 47 of set 10 | gandara\n",
      "Processing Record 48 of set 10 | kysyl-syr\n",
      "Processing Record 49 of set 10 | autazes\n",
      "Processing Record 0 of set 11 | pelym\n",
      "malwan not found. Skipping...\n",
      "Processing Record 2 of set 11 | bandarbeyla\n",
      "Processing Record 3 of set 11 | touros\n",
      "juifang not found. Skipping...\n",
      "Processing Record 5 of set 11 | portobelo\n",
      "Processing Record 6 of set 11 | ginir\n",
      "Processing Record 7 of set 11 | howard springs\n",
      "Processing Record 8 of set 11 | pingliang\n",
      "Processing Record 9 of set 11 | barranca\n",
      "Processing Record 10 of set 11 | ulladulla\n",
      "Processing Record 11 of set 11 | palembang\n",
      "Processing Record 12 of set 11 | conchas\n",
      "Processing Record 13 of set 11 | turukhansk\n",
      "Processing Record 14 of set 11 | jatiroto\n",
      "Processing Record 15 of set 11 | anadyr\n",
      "Processing Record 16 of set 11 | amapa\n",
      "Processing Record 17 of set 11 | okhotsk\n",
      "Processing Record 18 of set 11 | northam\n",
      "jiddah not found. Skipping...\n",
      "Processing Record 20 of set 11 | cururupu\n",
      "Processing Record 21 of set 11 | massakory\n",
      "Processing Record 22 of set 11 | rajura\n",
      "Processing Record 23 of set 11 | nova olimpia\n",
      "Processing Record 24 of set 11 | vila\n",
      "Processing Record 25 of set 11 | esil\n",
      "Processing Record 26 of set 11 | duekoue\n",
      "Processing Record 27 of set 11 | rabak\n",
      "Processing Record 28 of set 11 | dunedin\n",
      "Processing Record 29 of set 11 | iisalmi\n",
      "Processing Record 30 of set 11 | ust-maya\n",
      "Processing Record 31 of set 11 | zhuhai\n",
      "Processing Record 32 of set 11 | sao jose da coroa grande\n",
      "Processing Record 33 of set 11 | calama\n",
      "Processing Record 34 of set 11 | necochea\n",
      "burica not found. Skipping...\n",
      "Processing Record 36 of set 11 | vertientes\n",
      "Processing Record 37 of set 11 | guerande\n",
      "petrolandia not found. Skipping...\n",
      "Processing Record 39 of set 11 | binzhou\n",
      "Processing Record 40 of set 11 | paine\n",
      "Processing Record 41 of set 11 | namatanai\n",
      "Processing Record 42 of set 11 | ha giang\n",
      "Processing Record 43 of set 11 | bardstown\n",
      "Processing Record 44 of set 11 | munster\n",
      "Processing Record 45 of set 11 | sorong\n",
      "Processing Record 46 of set 11 | rabo de peixe\n",
      "Processing Record 47 of set 11 | camacha\n",
      "Processing Record 48 of set 11 | quang ngai\n",
      "Processing Record 49 of set 11 | kahului\n",
      "Processing Record 0 of set 12 | talara\n",
      "Processing Record 1 of set 12 | riyadh\n",
      "Processing Record 2 of set 12 | mount gambier\n",
      "lolua not found. Skipping...\n",
      "Processing Record 4 of set 12 | marsa matruh\n",
      "Processing Record 5 of set 12 | vendas novas\n",
      "Processing Record 6 of set 12 | requena\n",
      "Processing Record 7 of set 12 | grindavik\n",
      "Processing Record 8 of set 12 | buea\n",
      "Processing Record 9 of set 12 | oistins\n",
      "Processing Record 10 of set 12 | gizo\n",
      "Processing Record 11 of set 12 | vao\n",
      "Processing Record 12 of set 12 | pangai\n",
      "Processing Record 13 of set 12 | zhanaozen\n",
      "Processing Record 14 of set 12 | jacareacanga\n",
      "Processing Record 15 of set 12 | rafai\n",
      "Processing Record 16 of set 12 | sandakan\n",
      "grand river south east not found. Skipping...\n",
      "Processing Record 18 of set 12 | dingle\n",
      "Processing Record 19 of set 12 | merauke\n",
      "Processing Record 20 of set 12 | cabedelo\n",
      "Processing Record 21 of set 12 | honggang\n",
      "Processing Record 22 of set 12 | porto murtinho\n",
      "Processing Record 23 of set 12 | laminusa\n",
      "Processing Record 24 of set 12 | abalak\n",
      "Processing Record 25 of set 12 | itarema\n",
      "Processing Record 26 of set 12 | concarneau\n",
      "palabuhanratu not found. Skipping...\n",
      "Processing Record 28 of set 12 | tytuvenai\n",
      "Processing Record 29 of set 12 | egvekinot\n",
      "Processing Record 30 of set 12 | madisonville\n",
      "Processing Record 31 of set 12 | grand gaube\n",
      "Processing Record 32 of set 12 | lingao\n",
      "Processing Record 33 of set 12 | akureyri\n",
      "Processing Record 34 of set 12 | osorio\n",
      "Processing Record 35 of set 12 | colares\n",
      "Processing Record 36 of set 12 | katangli\n",
      "Processing Record 37 of set 12 | kuala terengganu\n",
      "tabialan not found. Skipping...\n",
      "Processing Record 39 of set 12 | rutland\n",
      "Processing Record 40 of set 12 | flinders\n",
      "Processing Record 41 of set 12 | wodonga\n",
      "Processing Record 42 of set 12 | medea\n",
      "Processing Record 43 of set 12 | iwaki\n",
      "Processing Record 44 of set 12 | kidal\n",
      "Processing Record 45 of set 12 | kruisfontein\n",
      "Processing Record 46 of set 12 | wanaka\n",
      "Processing Record 47 of set 12 | moerai\n",
      "Processing Record 48 of set 12 | tabas\n",
      "Processing Record 49 of set 12 | belmonte\n",
      "Processing Record 0 of set 13 | sisimiut\n",
      "Processing Record 1 of set 13 | dalianwan\n",
      "Processing Record 2 of set 13 | lac du bonnet\n"
     ]
    },
    {
     "name": "stdout",
     "output_type": "stream",
     "text": [
      "Processing Record 3 of set 13 | moctezuma\n",
      "Processing Record 4 of set 13 | mmabatho\n",
      "Processing Record 5 of set 13 | manchester\n",
      "marcona not found. Skipping...\n",
      "Processing Record 7 of set 13 | sabla\n",
      "Processing Record 8 of set 13 | la rioja\n",
      "Processing Record 9 of set 13 | balabac\n",
      "Processing Record 10 of set 13 | carutapera\n",
      "tumannyy not found. Skipping...\n",
      "Processing Record 12 of set 13 | shetpe\n",
      "Processing Record 13 of set 13 | banjar\n",
      "-----------------------------\n",
      "Data Retrieval Complete\n",
      "-----------------------------\n"
     ]
    }
   ],
   "source": [
    "# Save the needed information into arrays\n",
    "all_cities = []\n",
    "lon = []\n",
    "lat = []\n",
    "lat = []\n",
    "max_temp = []\n",
    "humidity = []\n",
    "clouds = []\n",
    "winds = []\n",
    "country = []\n",
    "temp_date = []\n",
    "\n",
    "# Initial counters\n",
    "count = 0\n",
    "set = 1\n",
    "\n",
    "# Start the url for the api call\n",
    "units = \"metric\"\n",
    "url = f\"http://api.openweathermap.org/data/2.5/weather?appid={weather_api_key}&units={units}&q=\"\n",
    "\n",
    "print(\"Beginning Data Retrieval\")\n",
    "print(\"-----------------------------\")\n",
    "\n",
    "# Loop through the list of cities and perform a request for data on each\n",
    "for city in cities:\n",
    "    \n",
    "    # If there have been 50 calls, make it sleep so we don't do too many calls in api limit\n",
    "    if count == 49:\n",
    "        time.sleep(1)\n",
    "        count = 0\n",
    "        set+= 1\n",
    "    else:\n",
    "        count +=1\n",
    "     \n",
    "    # Reguest the data and convert to json\n",
    "    response = requests.get(url + city).json()\n",
    "    \n",
    "    # Try to get the data from the response\n",
    "    try:\n",
    "        lon.append(response['coord']['lon'])\n",
    "        lat.append(response['coord']['lat'])\n",
    "        max_temp.append(response['main']['temp_max'])\n",
    "        humidity.append(response['main']['humidity'])\n",
    "        clouds.append(response['clouds']['all'])\n",
    "        winds.append(response['wind']['speed'])\n",
    "        country.append(response['sys']['country'])\n",
    "        temp_date.append(response['dt'])\n",
    "        all_cities.append(city)\n",
    "        \n",
    "        print(f\"Processing Record {count} of set {set} | {city}\")\n",
    "        \n",
    "    # If the api call did not work\n",
    "    except:\n",
    "        print(f\"{city} not found. Skipping...\")\n",
    "        \n",
    "print(\"-----------------------------\")\n",
    "print(\"Data Retrieval Complete\")\n",
    "print(\"-----------------------------\")\n",
    "\n"
   ]
  },
  {
   "cell_type": "markdown",
   "metadata": {},
   "source": [
    "### Convert Raw Data to DataFrame\n",
    "* Export the city data into a .csv.\n",
    "* Display the DataFrame"
   ]
  },
  {
   "cell_type": "code",
   "execution_count": 4,
   "metadata": {},
   "outputs": [
    {
     "data": {
      "text/html": [
       "<div>\n",
       "<style scoped>\n",
       "    .dataframe tbody tr th:only-of-type {\n",
       "        vertical-align: middle;\n",
       "    }\n",
       "\n",
       "    .dataframe tbody tr th {\n",
       "        vertical-align: top;\n",
       "    }\n",
       "\n",
       "    .dataframe thead th {\n",
       "        text-align: right;\n",
       "    }\n",
       "</style>\n",
       "<table border=\"1\" class=\"dataframe\">\n",
       "  <thead>\n",
       "    <tr style=\"text-align: right;\">\n",
       "      <th></th>\n",
       "      <th>City</th>\n",
       "      <th>Lat</th>\n",
       "      <th>Lng</th>\n",
       "      <th>Max Temp</th>\n",
       "      <th>Humidity</th>\n",
       "      <th>Cloudiness</th>\n",
       "      <th>Wind Speed</th>\n",
       "      <th>Country</th>\n",
       "      <th>Date</th>\n",
       "    </tr>\n",
       "  </thead>\n",
       "  <tbody>\n",
       "    <tr>\n",
       "      <th>0</th>\n",
       "      <td>henderson</td>\n",
       "      <td>36.04</td>\n",
       "      <td>-114.98</td>\n",
       "      <td>38.89</td>\n",
       "      <td>12</td>\n",
       "      <td>1</td>\n",
       "      <td>7.70</td>\n",
       "      <td>US</td>\n",
       "      <td>1595536297</td>\n",
       "    </tr>\n",
       "    <tr>\n",
       "      <th>1</th>\n",
       "      <td>cherskiy</td>\n",
       "      <td>68.75</td>\n",
       "      <td>161.30</td>\n",
       "      <td>19.31</td>\n",
       "      <td>62</td>\n",
       "      <td>5</td>\n",
       "      <td>3.90</td>\n",
       "      <td>RU</td>\n",
       "      <td>1595536297</td>\n",
       "    </tr>\n",
       "    <tr>\n",
       "      <th>2</th>\n",
       "      <td>port alfred</td>\n",
       "      <td>-33.59</td>\n",
       "      <td>26.89</td>\n",
       "      <td>17.74</td>\n",
       "      <td>45</td>\n",
       "      <td>0</td>\n",
       "      <td>4.54</td>\n",
       "      <td>ZA</td>\n",
       "      <td>1595536028</td>\n",
       "    </tr>\n",
       "    <tr>\n",
       "      <th>3</th>\n",
       "      <td>santiago del estero</td>\n",
       "      <td>-27.80</td>\n",
       "      <td>-64.26</td>\n",
       "      <td>13.02</td>\n",
       "      <td>39</td>\n",
       "      <td>100</td>\n",
       "      <td>6.20</td>\n",
       "      <td>AR</td>\n",
       "      <td>1595536297</td>\n",
       "    </tr>\n",
       "    <tr>\n",
       "      <th>4</th>\n",
       "      <td>khatanga</td>\n",
       "      <td>71.97</td>\n",
       "      <td>102.50</td>\n",
       "      <td>5.79</td>\n",
       "      <td>90</td>\n",
       "      <td>100</td>\n",
       "      <td>7.44</td>\n",
       "      <td>RU</td>\n",
       "      <td>1595536297</td>\n",
       "    </tr>\n",
       "  </tbody>\n",
       "</table>\n",
       "</div>"
      ],
      "text/plain": [
       "                  City    Lat     Lng  Max Temp  Humidity  Cloudiness  \\\n",
       "0            henderson  36.04 -114.98     38.89        12           1   \n",
       "1             cherskiy  68.75  161.30     19.31        62           5   \n",
       "2          port alfred -33.59   26.89     17.74        45           0   \n",
       "3  santiago del estero -27.80  -64.26     13.02        39         100   \n",
       "4             khatanga  71.97  102.50      5.79        90         100   \n",
       "\n",
       "   Wind Speed Country        Date  \n",
       "0        7.70      US  1595536297  \n",
       "1        3.90      RU  1595536297  \n",
       "2        4.54      ZA  1595536028  \n",
       "3        6.20      AR  1595536297  \n",
       "4        7.44      RU  1595536297  "
      ]
     },
     "execution_count": 4,
     "metadata": {},
     "output_type": "execute_result"
    }
   ],
   "source": [
    "# Make a dictionary\n",
    "weather_dict = {\n",
    "    \"City\": all_cities,\n",
    "    \"Lat\": lat,\n",
    "    \"Lng\": lon,\n",
    "    \"Max Temp\": max_temp,\n",
    "    \"Humidity\": humidity,\n",
    "    \"Cloudiness\": clouds,\n",
    "    \"Wind Speed\": winds,\n",
    "    \"Country\": country,\n",
    "    \"Date\": temp_date\n",
    "}\n",
    "\n",
    "# Convert to data frame\n",
    "weather_data = pd.DataFrame(weather_dict)\n",
    "\n",
    "# Save to .csv\n",
    "weather_data.to_csv('../output_data/cities.csv', index=False)\n",
    "\n",
    "# Print out first 5 rows\n",
    "weather_data.head()\n"
   ]
  },
  {
   "cell_type": "markdown",
   "metadata": {},
   "source": [
    "## Inspect the data and remove the cities where the humidity > 100%.\n",
    "----\n",
    "Skip this step if there are no cities that have humidity > 100%. "
   ]
  },
  {
   "cell_type": "code",
   "execution_count": 5,
   "metadata": {},
   "outputs": [
    {
     "data": {
      "text/html": [
       "<div>\n",
       "<style scoped>\n",
       "    .dataframe tbody tr th:only-of-type {\n",
       "        vertical-align: middle;\n",
       "    }\n",
       "\n",
       "    .dataframe tbody tr th {\n",
       "        vertical-align: top;\n",
       "    }\n",
       "\n",
       "    .dataframe thead th {\n",
       "        text-align: right;\n",
       "    }\n",
       "</style>\n",
       "<table border=\"1\" class=\"dataframe\">\n",
       "  <thead>\n",
       "    <tr style=\"text-align: right;\">\n",
       "      <th></th>\n",
       "      <th>City</th>\n",
       "      <th>Lat</th>\n",
       "      <th>Lng</th>\n",
       "      <th>Max Temp</th>\n",
       "      <th>Humidity</th>\n",
       "      <th>Cloudiness</th>\n",
       "      <th>Wind Speed</th>\n",
       "      <th>Country</th>\n",
       "      <th>Date</th>\n",
       "    </tr>\n",
       "  </thead>\n",
       "  <tbody>\n",
       "  </tbody>\n",
       "</table>\n",
       "</div>"
      ],
      "text/plain": [
       "Empty DataFrame\n",
       "Columns: [City, Lat, Lng, Max Temp, Humidity, Cloudiness, Wind Speed, Country, Date]\n",
       "Index: []"
      ]
     },
     "execution_count": 5,
     "metadata": {},
     "output_type": "execute_result"
    }
   ],
   "source": [
    "# Check if any cities have a humidity more than100%\n",
    "humid_cities = weather_data.loc[weather_data['Humidity'] > 100, : ]\n",
    "humid_cities"
   ]
  },
  {
   "cell_type": "code",
   "execution_count": 6,
   "metadata": {},
   "outputs": [
    {
     "data": {
      "text/plain": [
       "Int64Index([], dtype='int64')"
      ]
     },
     "execution_count": 6,
     "metadata": {},
     "output_type": "execute_result"
    }
   ],
   "source": [
    "#  Get the indices of cities that have humidity over 100%.\n",
    "humid_list = humid_cities.index\n",
    "humid_list"
   ]
  },
  {
   "cell_type": "code",
   "execution_count": 7,
   "metadata": {},
   "outputs": [
    {
     "data": {
      "text/html": [
       "<div>\n",
       "<style scoped>\n",
       "    .dataframe tbody tr th:only-of-type {\n",
       "        vertical-align: middle;\n",
       "    }\n",
       "\n",
       "    .dataframe tbody tr th {\n",
       "        vertical-align: top;\n",
       "    }\n",
       "\n",
       "    .dataframe thead th {\n",
       "        text-align: right;\n",
       "    }\n",
       "</style>\n",
       "<table border=\"1\" class=\"dataframe\">\n",
       "  <thead>\n",
       "    <tr style=\"text-align: right;\">\n",
       "      <th></th>\n",
       "      <th>City</th>\n",
       "      <th>Lat</th>\n",
       "      <th>Lng</th>\n",
       "      <th>Max Temp</th>\n",
       "      <th>Humidity</th>\n",
       "      <th>Cloudiness</th>\n",
       "      <th>Wind Speed</th>\n",
       "      <th>Country</th>\n",
       "      <th>Date</th>\n",
       "    </tr>\n",
       "  </thead>\n",
       "  <tbody>\n",
       "    <tr>\n",
       "      <th>0</th>\n",
       "      <td>henderson</td>\n",
       "      <td>36.04</td>\n",
       "      <td>-114.98</td>\n",
       "      <td>38.89</td>\n",
       "      <td>12</td>\n",
       "      <td>1</td>\n",
       "      <td>7.70</td>\n",
       "      <td>US</td>\n",
       "      <td>1595536297</td>\n",
       "    </tr>\n",
       "    <tr>\n",
       "      <th>1</th>\n",
       "      <td>cherskiy</td>\n",
       "      <td>68.75</td>\n",
       "      <td>161.30</td>\n",
       "      <td>19.31</td>\n",
       "      <td>62</td>\n",
       "      <td>5</td>\n",
       "      <td>3.90</td>\n",
       "      <td>RU</td>\n",
       "      <td>1595536297</td>\n",
       "    </tr>\n",
       "    <tr>\n",
       "      <th>2</th>\n",
       "      <td>port alfred</td>\n",
       "      <td>-33.59</td>\n",
       "      <td>26.89</td>\n",
       "      <td>17.74</td>\n",
       "      <td>45</td>\n",
       "      <td>0</td>\n",
       "      <td>4.54</td>\n",
       "      <td>ZA</td>\n",
       "      <td>1595536028</td>\n",
       "    </tr>\n",
       "    <tr>\n",
       "      <th>3</th>\n",
       "      <td>santiago del estero</td>\n",
       "      <td>-27.80</td>\n",
       "      <td>-64.26</td>\n",
       "      <td>13.02</td>\n",
       "      <td>39</td>\n",
       "      <td>100</td>\n",
       "      <td>6.20</td>\n",
       "      <td>AR</td>\n",
       "      <td>1595536297</td>\n",
       "    </tr>\n",
       "    <tr>\n",
       "      <th>4</th>\n",
       "      <td>khatanga</td>\n",
       "      <td>71.97</td>\n",
       "      <td>102.50</td>\n",
       "      <td>5.79</td>\n",
       "      <td>90</td>\n",
       "      <td>100</td>\n",
       "      <td>7.44</td>\n",
       "      <td>RU</td>\n",
       "      <td>1595536297</td>\n",
       "    </tr>\n",
       "    <tr>\n",
       "      <th>...</th>\n",
       "      <td>...</td>\n",
       "      <td>...</td>\n",
       "      <td>...</td>\n",
       "      <td>...</td>\n",
       "      <td>...</td>\n",
       "      <td>...</td>\n",
       "      <td>...</td>\n",
       "      <td>...</td>\n",
       "      <td>...</td>\n",
       "    </tr>\n",
       "    <tr>\n",
       "      <th>560</th>\n",
       "      <td>la rioja</td>\n",
       "      <td>42.25</td>\n",
       "      <td>-2.50</td>\n",
       "      <td>25.00</td>\n",
       "      <td>53</td>\n",
       "      <td>6</td>\n",
       "      <td>3.10</td>\n",
       "      <td>ES</td>\n",
       "      <td>1595536503</td>\n",
       "    </tr>\n",
       "    <tr>\n",
       "      <th>561</th>\n",
       "      <td>balabac</td>\n",
       "      <td>7.99</td>\n",
       "      <td>117.06</td>\n",
       "      <td>27.31</td>\n",
       "      <td>79</td>\n",
       "      <td>100</td>\n",
       "      <td>4.57</td>\n",
       "      <td>PH</td>\n",
       "      <td>1595536503</td>\n",
       "    </tr>\n",
       "    <tr>\n",
       "      <th>562</th>\n",
       "      <td>carutapera</td>\n",
       "      <td>-1.20</td>\n",
       "      <td>-46.02</td>\n",
       "      <td>26.17</td>\n",
       "      <td>81</td>\n",
       "      <td>12</td>\n",
       "      <td>3.28</td>\n",
       "      <td>BR</td>\n",
       "      <td>1595536474</td>\n",
       "    </tr>\n",
       "    <tr>\n",
       "      <th>563</th>\n",
       "      <td>shetpe</td>\n",
       "      <td>44.17</td>\n",
       "      <td>52.12</td>\n",
       "      <td>23.71</td>\n",
       "      <td>34</td>\n",
       "      <td>0</td>\n",
       "      <td>1.41</td>\n",
       "      <td>KZ</td>\n",
       "      <td>1595536504</td>\n",
       "    </tr>\n",
       "    <tr>\n",
       "      <th>564</th>\n",
       "      <td>banjar</td>\n",
       "      <td>-8.19</td>\n",
       "      <td>114.97</td>\n",
       "      <td>26.00</td>\n",
       "      <td>94</td>\n",
       "      <td>20</td>\n",
       "      <td>6.20</td>\n",
       "      <td>ID</td>\n",
       "      <td>1595536504</td>\n",
       "    </tr>\n",
       "  </tbody>\n",
       "</table>\n",
       "<p>565 rows × 9 columns</p>\n",
       "</div>"
      ],
      "text/plain": [
       "                    City    Lat     Lng  Max Temp  Humidity  Cloudiness  \\\n",
       "0              henderson  36.04 -114.98     38.89        12           1   \n",
       "1               cherskiy  68.75  161.30     19.31        62           5   \n",
       "2            port alfred -33.59   26.89     17.74        45           0   \n",
       "3    santiago del estero -27.80  -64.26     13.02        39         100   \n",
       "4               khatanga  71.97  102.50      5.79        90         100   \n",
       "..                   ...    ...     ...       ...       ...         ...   \n",
       "560             la rioja  42.25   -2.50     25.00        53           6   \n",
       "561              balabac   7.99  117.06     27.31        79         100   \n",
       "562           carutapera  -1.20  -46.02     26.17        81          12   \n",
       "563               shetpe  44.17   52.12     23.71        34           0   \n",
       "564               banjar  -8.19  114.97     26.00        94          20   \n",
       "\n",
       "     Wind Speed Country        Date  \n",
       "0          7.70      US  1595536297  \n",
       "1          3.90      RU  1595536297  \n",
       "2          4.54      ZA  1595536028  \n",
       "3          6.20      AR  1595536297  \n",
       "4          7.44      RU  1595536297  \n",
       "..          ...     ...         ...  \n",
       "560        3.10      ES  1595536503  \n",
       "561        4.57      PH  1595536503  \n",
       "562        3.28      BR  1595536474  \n",
       "563        1.41      KZ  1595536504  \n",
       "564        6.20      ID  1595536504  \n",
       "\n",
       "[565 rows x 9 columns]"
      ]
     },
     "execution_count": 7,
     "metadata": {},
     "output_type": "execute_result"
    }
   ],
   "source": [
    "# Make a new DataFrame equal to the city data to drop all humidity outliers by index.\n",
    "# Passing \"inplace=False\" will make a copy of the city_data DataFrame, which we call \"clean_city_data\".\n",
    "clean_city_data = weather_data[weather_data[\"Humidity\"] <= 100]\n",
    "clean_city_data"
   ]
  },
  {
   "cell_type": "markdown",
   "metadata": {},
   "source": [
    "## Plotting the Data\n",
    "* Use proper labeling of the plots using plot titles (including date of analysis) and axes labels.\n",
    "* Save the plotted figures as .pngs."
   ]
  },
  {
   "cell_type": "markdown",
   "metadata": {},
   "source": [
    "## Latitude vs. Temperature Plot"
   ]
  },
  {
   "cell_type": "code",
   "execution_count": 8,
   "metadata": {
    "scrolled": true
   },
   "outputs": [
    {
     "data": {
      "image/png": "[encoded data removed]",
      "text/plain": [
       "<Figure size 432x288 with 1 Axes>"
      ]
     },
     "metadata": {
      "needs_background": "light"
     },
     "output_type": "display_data"
    }
   ],
   "source": [
    "# Create the scattor plot graphs\n",
    "\n",
    "plt.scatter(weather_data[\"Lat\"], weather_data[\"Max Temp\"], marker=\"*\", color=\"green\")\n",
    "plt.title(\"City Latitude vs Temperature\")\n",
    "plt.xlabel(\"Latitude\")\n",
    "plt.ylabel(\"Max Temperature\")\n",
    "\n",
    "# Save the graph\n",
    "plt.savefig('../output_data/fig1.png')\n",
    "\n",
    "plt.show()"
   ]
  },
  {
   "cell_type": "markdown",
   "metadata": {},
   "source": [
    "## Latitude vs. Humidity Plot"
   ]
  },
  {
   "cell_type": "code",
   "execution_count": 9,
   "metadata": {},
   "outputs": [
    {
     "data": {
      "image/png": "[encoded data removed]",
      "text/plain": [
       "<Figure size 432x288 with 1 Axes>"
      ]
     },
     "metadata": {
      "needs_background": "light"
     },
     "output_type": "display_data"
    }
   ],
   "source": [
    "plt.scatter(weather_data[\"Lat\"], weather_data[\"Humidity\"], marker=\"*\", color=\"green\")\n",
    "plt.title(\"City Latitude vs Humidity\")\n",
    "plt.xlabel(\"Latitude\")\n",
    "plt.ylabel(\"Humidity\")\n",
    "\n",
    "# Save the graph\n",
    "plt.savefig(\"../output_data/fig2.png\")\n",
    "\n",
    "plt.show()"
   ]
  },
  {
   "cell_type": "markdown",
   "metadata": {},
   "source": [
    "## Latitude vs. Cloudiness Plot"
   ]
  },
  {
   "cell_type": "code",
   "execution_count": 10,
   "metadata": {},
   "outputs": [
    {
     "data": {
      "image/png": "[encoded data removed]",
      "text/plain": [
       "<Figure size 432x288 with 1 Axes>"
      ]
     },
     "metadata": {
      "needs_background": "light"
     },
     "output_type": "display_data"
    }
   ],
   "source": [
    "plt.scatter(weather_data[\"Lat\"], weather_data[\"Cloudiness\"], marker=\"*\", color=\"green\")\n",
    "plt.title(\"City Latitude vs Cloudiness\")\n",
    "plt.xlabel(\"Latitude\")\n",
    "plt.ylabel(\"Cloudiness\")\n",
    "\n",
    "# Save the graph\n",
    "plt.savefig(\"../output_data/fig3.png\")\n",
    "\n",
    "plt.show()"
   ]
  },
  {
   "cell_type": "markdown",
   "metadata": {},
   "source": [
    "## Latitude vs. Wind Speed Plot"
   ]
  },
  {
   "cell_type": "code",
   "execution_count": 11,
   "metadata": {},
   "outputs": [
    {
     "data": {
      "image/png": "[encoded data removed]",
      "text/plain": [
       "<Figure size 432x288 with 1 Axes>"
      ]
     },
     "metadata": {
      "needs_background": "light"
     },
     "output_type": "display_data"
    }
   ],
   "source": [
    "plt.scatter(weather_data[\"Lat\"], weather_data[\"Wind Speed\"], marker=\"*\", color=\"green\")\n",
    "plt.title(\"City Latitude vs Wind Speed\")\n",
    "plt.xlabel(\"Latitude\")\n",
    "plt.ylabel(\"Wind Speed\")\n",
    "\n",
    "# Save the graph\n",
    "plt.savefig(\"../output_data/fig4.png\")\n",
    "\n",
    "plt.show()"
   ]
  },
  {
   "cell_type": "markdown",
   "metadata": {},
   "source": [
    "## Linear Regression"
   ]
  },
  {
   "cell_type": "code",
   "execution_count": 12,
   "metadata": {},
   "outputs": [],
   "source": [
    "# OPTIONAL: Create a function to create Linear Regression plots"
   ]
  },
  {
   "cell_type": "code",
   "execution_count": 13,
   "metadata": {},
   "outputs": [],
   "source": [
    "# Create Northern and Southern Hemisphere DataFrames\n",
    "northern_city_data = clean_city_data[clean_city_data[\"Lat\"] > 0]\n",
    "southern_city_data = clean_city_data[clean_city_data[\"Lat\"] < 0]"
   ]
  },
  {
   "cell_type": "markdown",
   "metadata": {},
   "source": [
    "####  Northern Hemisphere - Max Temp vs. Latitude Linear Regression"
   ]
  },
  {
   "cell_type": "code",
   "execution_count": 14,
   "metadata": {},
   "outputs": [
    {
     "name": "stdout",
     "output_type": "stream",
     "text": [
      "The correlation between latitude and max temp is: -0.69\n"
     ]
    },
    {
     "data": {
      "image/png": "[encoded data removed]",
      "text/plain": [
       "<Figure size 432x288 with 1 Axes>"
      ]
     },
     "metadata": {
      "needs_background": "light"
     },
     "output_type": "display_data"
    }
   ],
   "source": [
    "# Do the linear regressions\n",
    "\n",
    "x_axis = northern_city_data[\"Lat\"]\n",
    "y_axis = northern_city_data[\"Max Temp\"]\n",
    "\n",
    "correlation = st.pearsonr(x_axis, y_axis)\n",
    "\n",
    "(slope, intercept, rvalue, pvalue, stderr) = linregress(x_axis, y_axis)\n",
    "regress_values = x_axis * slope + intercept\n",
    "line_eq = \"y = \" + str(round(slope,2)) + \"x + \" + str(round(intercept,2))\n",
    "\n",
    "plt.scatter(x_axis, y_axis, marker=\"*\", color=\"blue\")\n",
    "plt.plot(x_axis,regress_values, 'r-')\n",
    "plt.annotate(line_eq, (5,5), fontsize=18, color=\"red\")\n",
    "\n",
    "plt.title(\"Northern Hemisphere City Latitude vs Max Temp\")\n",
    "plt.xlabel(\"Latitude\")\n",
    "plt.ylabel(\"Max Temp\")\n",
    "\n",
    "print(f\"The correlation between latitude and max temp is: {round(correlation[0],2)}\")\n",
    "\n",
    "plt.show()"
   ]
  },
  {
   "cell_type": "markdown",
   "metadata": {},
   "source": [
    "####  Southern Hemisphere - Max Temp vs. Latitude Linear Regression"
   ]
  },
  {
   "cell_type": "code",
   "execution_count": 15,
   "metadata": {},
   "outputs": [
    {
     "name": "stdout",
     "output_type": "stream",
     "text": [
      "The correlation between latitude and max temp is: 0.75\n"
     ]
    },
    {
     "data": {
      "image/png": "[encoded data removed]",
      "text/plain": [
       "<Figure size 432x288 with 1 Axes>"
      ]
     },
     "metadata": {
      "needs_background": "light"
     },
     "output_type": "display_data"
    }
   ],
   "source": [
    "x_axis = southern_city_data[\"Lat\"]\n",
    "y_axis = southern_city_data[\"Max Temp\"]\n",
    "\n",
    "correlation = st.pearsonr(x_axis, y_axis)\n",
    "\n",
    "(slope, intercept, rvalue, pvalue, stderr) = linregress(x_axis, y_axis)\n",
    "regress_values = x_axis * slope + intercept\n",
    "line_eq = \"y = \" + str(round(slope,2)) + \"x + \" + str(round(intercept,2))\n",
    "\n",
    "plt.scatter(x_axis, y_axis, marker=\"*\", color=\"blue\")\n",
    "plt.plot(x_axis,regress_values, 'r-')\n",
    "plt.annotate(line_eq, (-30,2), fontsize=18, color=\"red\")\n",
    "\n",
    "plt.title(\"Southern Hemisphere City Latitude vs Max Temp\")\n",
    "plt.xlabel(\"Latitude\")\n",
    "plt.ylabel(\"Max Temp\")\n",
    "\n",
    "print(f\"The correlation between latitude and max temp is: {round(correlation[0],2)}\")\n",
    "\n",
    "plt.show()"
   ]
  },
  {
   "cell_type": "markdown",
   "metadata": {},
   "source": [
    "####  Northern Hemisphere - Humidity (%) vs. Latitude Linear Regression"
   ]
  },
  {
   "cell_type": "code",
   "execution_count": 16,
   "metadata": {},
   "outputs": [
    {
     "name": "stdout",
     "output_type": "stream",
     "text": [
      "The correlation between latitude and humidity is: -0.01\n"
     ]
    },
    {
     "data": {
      "image/png": "[encoded data removed]",
      "text/plain": [
       "<Figure size 432x288 with 1 Axes>"
      ]
     },
     "metadata": {
      "needs_background": "light"
     },
     "output_type": "display_data"
    }
   ],
   "source": [
    "x_axis = northern_city_data[\"Lat\"]\n",
    "y_axis = northern_city_data[\"Humidity\"]\n",
    "\n",
    "correlation = st.pearsonr(x_axis, y_axis)\n",
    "\n",
    "(slope, intercept, rvalue, pvalue, stderr) = linregress(x_axis, y_axis)\n",
    "regress_values = x_axis * slope + intercept\n",
    "line_eq = \"y = \" + str(round(slope,2)) + \"x + \" + str(round(intercept,2))\n",
    "\n",
    "plt.scatter(x_axis, y_axis, marker=\"*\", color=\"blue\")\n",
    "plt.plot(x_axis,regress_values, 'r-')\n",
    "plt.annotate(line_eq, (40,10), fontsize=18, color=\"red\")\n",
    "\n",
    "plt.title(\"Northern Hemisphere City Latitude vs Humidity\")\n",
    "plt.xlabel(\"Latitude\")\n",
    "plt.ylabel(\"Humidity\")\n",
    "\n",
    "print(f\"The correlation between latitude and humidity is: {round(correlation[0],2)}\")\n",
    "\n",
    "plt.show()"
   ]
  },
  {
   "cell_type": "markdown",
   "metadata": {},
   "source": [
    "####  Southern Hemisphere - Humidity (%) vs. Latitude Linear Regression"
   ]
  },
  {
   "cell_type": "code",
   "execution_count": 17,
   "metadata": {},
   "outputs": [
    {
     "name": "stdout",
     "output_type": "stream",
     "text": [
      "The correlation between latitude and humidity is: -0.07\n"
     ]
    },
    {
     "data": {
      "image/png": "[encoded data removed]",
      "text/plain": [
       "<Figure size 432x288 with 1 Axes>"
      ]
     },
     "metadata": {
      "needs_background": "light"
     },
     "output_type": "display_data"
    }
   ],
   "source": [
    "x_axis = southern_city_data[\"Lat\"]\n",
    "y_axis = southern_city_data[\"Humidity\"]\n",
    "\n",
    "correlation = st.pearsonr(x_axis, y_axis)\n",
    "\n",
    "(slope, intercept, rvalue, pvalue, stderr) = linregress(x_axis, y_axis)\n",
    "regress_values = x_axis * slope + intercept\n",
    "line_eq = \"y = \" + str(round(slope,2)) + \"x + \" + str(round(intercept,2))\n",
    "\n",
    "plt.scatter(x_axis, y_axis, marker=\"*\", color=\"blue\")\n",
    "plt.plot(x_axis,regress_values, 'r-')\n",
    "plt.annotate(line_eq, (-30,5), fontsize=18, color=\"red\")\n",
    "\n",
    "plt.title(\"Southern Hemisphere City Latitude vs Max Humidity\")\n",
    "plt.xlabel(\"Latitude\")\n",
    "plt.ylabel(\"Humidity\")\n",
    "\n",
    "print(f\"The correlation between latitude and humidity is: {round(correlation[0],2)}\")\n",
    "\n",
    "plt.show()"
   ]
  },
  {
   "cell_type": "markdown",
   "metadata": {},
   "source": [
    "####  Northern Hemisphere - Cloudiness (%) vs. Latitude Linear Regression"
   ]
  },
  {
   "cell_type": "code",
   "execution_count": 18,
   "metadata": {},
   "outputs": [
    {
     "name": "stdout",
     "output_type": "stream",
     "text": [
      "The correlation between latitude and cloudiness is: -0.07\n"
     ]
    },
    {
     "data": {
      "image/png": "[encoded data removed]",
      "text/plain": [
       "<Figure size 432x288 with 1 Axes>"
      ]
     },
     "metadata": {
      "needs_background": "light"
     },
     "output_type": "display_data"
    }
   ],
   "source": [
    "x_axis = northern_city_data[\"Lat\"]\n",
    "y_axis = northern_city_data[\"Cloudiness\"]\n",
    "\n",
    "correlation = st.pearsonr(x_axis, y_axis)\n",
    "\n",
    "(slope, intercept, rvalue, pvalue, stderr) = linregress(x_axis, y_axis)\n",
    "regress_values = x_axis * slope + intercept\n",
    "line_eq = \"y = \" + str(round(slope,2)) + \"x + \" + str(round(intercept,2))\n",
    "\n",
    "plt.scatter(x_axis, y_axis, marker=\"*\", color=\"blue\")\n",
    "plt.plot(x_axis,regress_values, 'r-')\n",
    "plt.annotate(line_eq, (28,28), fontsize=18, color=\"red\")\n",
    "\n",
    "plt.title(\"Northern Hemisphere City Latitude vs Cloudiness\")\n",
    "plt.xlabel(\"Latitude\")\n",
    "plt.ylabel(\"Cloudiness\")\n",
    "\n",
    "print(f\"The correlation between latitude and cloudiness is: {round(correlation[0],2)}\")\n",
    "\n",
    "plt.show()"
   ]
  },
  {
   "cell_type": "markdown",
   "metadata": {},
   "source": [
    "####  Southern Hemisphere - Cloudiness (%) vs. Latitude Linear Regression"
   ]
  },
  {
   "cell_type": "code",
   "execution_count": 19,
   "metadata": {},
   "outputs": [
    {
     "name": "stdout",
     "output_type": "stream",
     "text": [
      "The correlation between latitude and cloudiness is: -0.02\n"
     ]
    },
    {
     "data": {
      "image/png": "[encoded data removed]",
      "text/plain": [
       "<Figure size 432x288 with 1 Axes>"
      ]
     },
     "metadata": {
      "needs_background": "light"
     },
     "output_type": "display_data"
    }
   ],
   "source": [
    "x_axis = southern_city_data[\"Lat\"]\n",
    "y_axis = southern_city_data[\"Cloudiness\"]\n",
    "\n",
    "correlation = st.pearsonr(x_axis, y_axis)\n",
    "\n",
    "(slope, intercept, rvalue, pvalue, stderr) = linregress(x_axis, y_axis)\n",
    "regress_values = x_axis * slope + intercept\n",
    "line_eq = \"y = \" + str(round(slope,2)) + \"x + \" + str(round(intercept,2))\n",
    "\n",
    "plt.scatter(x_axis, y_axis, marker=\"*\", color=\"blue\")\n",
    "plt.plot(x_axis,regress_values, 'r-')\n",
    "plt.annotate(line_eq, (-40,28), fontsize=18, color=\"red\")\n",
    "\n",
    "plt.title(\"Southern Hemisphere City Latitude vs Cloudiness\")\n",
    "plt.xlabel(\"Latitude\")\n",
    "plt.ylabel(\"Cloudiness\")\n",
    "\n",
    "print(f\"The correlation between latitude and cloudiness is: {round(correlation[0],2)}\")\n",
    "\n",
    "plt.show()"
   ]
  },
  {
   "cell_type": "markdown",
   "metadata": {},
   "source": [
    "####  Northern Hemisphere - Wind Speed (mph) vs. Latitude Linear Regression"
   ]
  },
  {
   "cell_type": "code",
   "execution_count": 20,
   "metadata": {},
   "outputs": [
    {
     "name": "stdout",
     "output_type": "stream",
     "text": [
      "The correlation between latitude and wind speed is: -0.02\n"
     ]
    },
    {
     "data": {
      "image/png": "[encoded data removed]",
      "text/plain": [
       "<Figure size 432x288 with 1 Axes>"
      ]
     },
     "metadata": {
      "needs_background": "light"
     },
     "output_type": "display_data"
    }
   ],
   "source": [
    "x_axis = northern_city_data[\"Lat\"]\n",
    "y_axis = northern_city_data[\"Wind Speed\"]\n",
    "\n",
    "correlation = st.pearsonr(x_axis, y_axis)\n",
    "\n",
    "(slope, intercept, rvalue, pvalue, stderr) = linregress(x_axis, y_axis)\n",
    "regress_values = x_axis * slope + intercept\n",
    "line_eq = \"y = \" + str(round(slope,2)) + \"x + \" + str(round(intercept,2))\n",
    "\n",
    "plt.scatter(x_axis, y_axis, marker=\"*\", color=\"blue\")\n",
    "plt.plot(x_axis,regress_values, 'r-')\n",
    "plt.annotate(line_eq, (5,11), fontsize=18, color=\"red\")\n",
    "\n",
    "plt.title(\"Northern Hemisphere City Latitude vs Wind Speed\")\n",
    "plt.xlabel(\"Latitude\")\n",
    "plt.ylabel(\"Wind Speed\")\n",
    "\n",
    "print(f\"The correlation between latitude and wind speed is: {round(correlation[0],2)}\")\n",
    "\n",
    "plt.show()"
   ]
  },
  {
   "cell_type": "markdown",
   "metadata": {},
   "source": [
    "####  Southern Hemisphere - Wind Speed (mph) vs. Latitude Linear Regression"
   ]
  },
  {
   "cell_type": "code",
   "execution_count": 22,
   "metadata": {},
   "outputs": [
    {
     "name": "stdout",
     "output_type": "stream",
     "text": [
      "The correlation between latitude and wind speed is: 0.13\n"
     ]
    },
    {
     "data": {
      "image/png": "[encoded data removed]",
      "text/plain": [
       "<Figure size 432x288 with 1 Axes>"
      ]
     },
     "metadata": {
      "needs_background": "light"
     },
     "output_type": "display_data"
    }
   ],
   "source": [
    "x_axis = southern_city_data[\"Lat\"]\n",
    "y_axis = southern_city_data[\"Wind Speed\"]\n",
    "\n",
    "correlation = st.pearsonr(x_axis, y_axis)\n",
    "\n",
    "(slope, intercept, rvalue, pvalue, stderr) = linregress(x_axis, y_axis)\n",
    "regress_values = x_axis * slope + intercept\n",
    "line_eq = \"y = \" + str(round(slope,2)) + \"x + \" + str(round(intercept,2))\n",
    "\n",
    "plt.scatter(x_axis, y_axis, marker=\"*\", color=\"blue\")\n",
    "plt.plot(x_axis,regress_values, 'r-')\n",
    "plt.annotate(line_eq, (-40,6), fontsize=18, color=\"red\")\n",
    "\n",
    "plt.title(\"Southern Hemisphere City Latitude vs Wind Speed\")\n",
    "plt.xlabel(\"Latitude\")\n",
    "plt.ylabel(\"Wind Speed\")\n",
    "\n",
    "print(f\"The correlation between latitude and wind speed is: {round(correlation[0],2)}\")\n",
    "\n",
    "plt.show()"
   ]
  },
  {
   "cell_type": "markdown",
   "metadata": {},
   "source": [
    "# Observable Trends\n",
    "1. There is a strong correlation between latitude and maximum temperatures when the data is broken into northern and southern hemispheres.  This makes sense, since the closer you get to the equator the hotter it is going to be.\n",
    "\n",
    "\n",
    "2. It looks like there is basically no correlation between latitude and cloudiness.  So cloudiness happens all over the globe.\n",
    "\n",
    "\n",
    "3. There also is little correlation between latitude and wind speed.  It looks like wind speed is not affected by the latitude.  "
   ]
  }
 ],
 "metadata": {
  "anaconda-cloud": {},
  "kernel_info": {
   "name": "python3"
  },
  "kernelspec": {
   "display_name": "Python 3",
   "language": "python",
   "name": "python3"
  },
  "language_info": {
   "codemirror_mode": {
    "name": "ipython",
    "version": 3
   },
   "file_extension": ".py",
   "mimetype": "text/x-python",
   "name": "python",
   "nbconvert_exporter": "python",
   "pygments_lexer": "ipython3",
   "version": "3.6.10"
  },
  "latex_envs": {
   "LaTeX_envs_menu_present": true,
   "autoclose": false,
   "autocomplete": true,
   "bibliofile": "biblio.bib",
   "cite_by": "apalike",
   "current_citInitial": 1,
   "eqLabelWithNumbers": true,
   "eqNumInitial": 1,
   "hotkeys": {
    "equation": "Ctrl-E",
    "itemize": "Ctrl-I"
   },
   "labels_anchors": false,
   "latex_user_defs": false,
   "report_style_numbering": false,
   "user_envs_cfg": false
  },
  "nteract": {
   "version": "0.12.3"
  }
 },
 "nbformat": 4,
 "nbformat_minor": 2
}
